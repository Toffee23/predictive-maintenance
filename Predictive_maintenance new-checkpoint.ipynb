{
 "cells": [
  {
   "cell_type": "markdown",
   "metadata": {},
   "source": [
    "## **Training Artificial Neural Network on Predictive Maintenance Dataset**"
   ]
  },
  {
   "cell_type": "markdown",
   "metadata": {},
   "source": [
    "### **Importing Libraries**"
   ]
  },
  {
   "cell_type": "code",
   "execution_count": 1,
   "metadata": {},
   "outputs": [],
   "source": [
    "# Import the warnings module to manage warning messages\n",
    "import warnings\n",
    "\n",
    "# Ignore all warning messages to reduce console clutter (use with caution)\n",
    "warnings.filterwarnings('ignore')\n",
    "\n",
    "# Import the pandas library for data manipulation\n",
    "import pandas as pd\n",
    "\n",
    "# Import the numpy library for numerical operations\n",
    "import numpy as np\n",
    "\n",
    "# Import the matplotlib library for basic plotting\n",
    "import matplotlib.pyplot as plt\n",
    "\n",
    "# Import the seaborn library for statistical data visualization\n",
    "import seaborn as sns\n"
   ]
  },
  {
   "cell_type": "markdown",
   "metadata": {},
   "source": [
    "### Data Collection\n",
    "### Reading Dataset downloaded from Kaggle \n",
    "https://www.kaggle.com/datasets/stephanmatzka/predictive-maintenance-dataset-ai4i-2020/data"
   ]
  },
  {
   "cell_type": "code",
   "execution_count": 2,
   "metadata": {},
   "outputs": [],
   "source": [
    "# Importing dataset from a CSV file named \"predictive.csv\"\n",
    "df = pd.read_csv(\"predictive.csv\")"
   ]
  },
  {
   "cell_type": "code",
   "execution_count": 3,
   "metadata": {},
   "outputs": [
    {
     "name": "stdout",
     "output_type": "stream",
     "text": [
      "<class 'pandas.core.frame.DataFrame'>\n",
      "RangeIndex: 10000 entries, 0 to 9999\n",
      "Data columns (total 14 columns):\n",
      " #   Column                   Non-Null Count  Dtype  \n",
      "---  ------                   --------------  -----  \n",
      " 0   UDI                      10000 non-null  int64  \n",
      " 1   Product ID               10000 non-null  object \n",
      " 2   Type                     10000 non-null  object \n",
      " 3   Air temperature [K]      10000 non-null  float64\n",
      " 4   Process temperature [K]  10000 non-null  float64\n",
      " 5   Rotational speed [rpm]   10000 non-null  int64  \n",
      " 6   Torque [Nm]              10000 non-null  float64\n",
      " 7   Tool wear [min]          10000 non-null  int64  \n",
      " 8   Machine failure          10000 non-null  int64  \n",
      " 9   TWF                      10000 non-null  int64  \n",
      " 10  HDF                      10000 non-null  int64  \n",
      " 11  PWF                      10000 non-null  int64  \n",
      " 12  OSF                      10000 non-null  int64  \n",
      " 13  RNF                      10000 non-null  int64  \n",
      "dtypes: float64(3), int64(9), object(2)\n",
      "memory usage: 1.1+ MB\n"
     ]
    }
   ],
   "source": [
    "df.info()"
   ]
  },
  {
   "cell_type": "markdown",
   "metadata": {},
   "source": [
    "#### **Columns or Features Description**\n",
    "\n",
    "- UID: unique identifier ranging from 1 to 10000\n",
    "- product ID: consisting of a letter L, M, or H for low (50% of all products), medium (30%) and high (20%) as product quality variants and a variant-specific serial number\n",
    "- type: just the product type L, M or H from column 2\n",
    "- air temperature [K]: generated using a random walk process later normalized to a standard deviation of 2 K around 300 K\n",
    "- process temperature [K]: generated using a random walk process normalized to a standard deviation of 1 K, added to the air temperature plus 10 K.\n",
    "- rotational speed [rpm]: calculated from a power of 2860 W, overlaid with a normally distributed noise\n",
    "- torque [Nm]: torque values are normally distributed around 40 Nm with a SD = 10 Nm and no negative values.\n",
    "- tool wear [min]: The quality variants H/M/L add 5/3/2 minutes of tool wear to the used tool in the process.\n",
    "- a 'machine failure' label that indicates, whether the machine has failed in this particular datapoint for any of the following failure modes are true.\n",
    "The machine failure consists of five independent failure modes\n",
    "\n",
    "- tool wear failure (TWF): the tool will be replaced of fail at a randomly selected tool wear time between 200 - 240 mins (120 times in our dataset). At this point in time, the tool is replaced 69 times, and fails 51 times (randomly assigned).\n",
    "- heat dissipation failure (HDF): heat dissipation causes a process failure, if the difference between air- and process temperature is below 8.6 K and the tools rotational speed is below 1380 rpm. This is the case for 115 data points.\n",
    "- power failure (PWF): the product of torque and rotational speed (in rad/s) equals the power required for the process. If this power is below 3500 W or above 9000 W, the process fails, which is the case 95 times in our dataset.\n",
    "- overstrain failure (OSF): if the product of tool wear and torque exceeds 11,000 minNm for the L product variant (12,000 M, 13,000 H), the process fails due to overstrain. This is true for 98 datapoints.\n",
    "- random failures (RNF): each process has a chance of 0,1 % to fail regardless of its process parameters. This is the case for only 5 datapoints, less than could be expected for 10,000 datapoints in our dataset.\n",
    "- If at least one of the above failure modes is true, the process fails and the 'machine failure' label is set to 1. It is therefore not transparent to the machine learning method, which of the failure modes has caused the process to fail."
   ]
  },
  {
   "cell_type": "markdown",
   "metadata": {},
   "source": [
    "## **Data Preprocessing**"
   ]
  },
  {
   "cell_type": "code",
   "execution_count": 4,
   "metadata": {},
   "outputs": [
    {
     "data": {
      "text/html": [
       "<div>\n",
       "<style scoped>\n",
       "    .dataframe tbody tr th:only-of-type {\n",
       "        vertical-align: middle;\n",
       "    }\n",
       "\n",
       "    .dataframe tbody tr th {\n",
       "        vertical-align: top;\n",
       "    }\n",
       "\n",
       "    .dataframe thead th {\n",
       "        text-align: right;\n",
       "    }\n",
       "</style>\n",
       "<table border=\"1\" class=\"dataframe\">\n",
       "  <thead>\n",
       "    <tr style=\"text-align: right;\">\n",
       "      <th></th>\n",
       "      <th>UDI</th>\n",
       "      <th>Product ID</th>\n",
       "      <th>Type</th>\n",
       "      <th>Air temperature [K]</th>\n",
       "      <th>Process temperature [K]</th>\n",
       "      <th>Rotational speed [rpm]</th>\n",
       "      <th>Torque [Nm]</th>\n",
       "      <th>Tool wear [min]</th>\n",
       "      <th>Machine failure</th>\n",
       "      <th>TWF</th>\n",
       "      <th>HDF</th>\n",
       "      <th>PWF</th>\n",
       "      <th>OSF</th>\n",
       "      <th>RNF</th>\n",
       "    </tr>\n",
       "  </thead>\n",
       "  <tbody>\n",
       "    <tr>\n",
       "      <th>0</th>\n",
       "      <td>1</td>\n",
       "      <td>M14860</td>\n",
       "      <td>M</td>\n",
       "      <td>298.1</td>\n",
       "      <td>308.6</td>\n",
       "      <td>1551</td>\n",
       "      <td>42.8</td>\n",
       "      <td>0</td>\n",
       "      <td>0</td>\n",
       "      <td>0</td>\n",
       "      <td>0</td>\n",
       "      <td>0</td>\n",
       "      <td>0</td>\n",
       "      <td>0</td>\n",
       "    </tr>\n",
       "    <tr>\n",
       "      <th>1</th>\n",
       "      <td>2</td>\n",
       "      <td>L47181</td>\n",
       "      <td>L</td>\n",
       "      <td>298.2</td>\n",
       "      <td>308.7</td>\n",
       "      <td>1408</td>\n",
       "      <td>46.3</td>\n",
       "      <td>3</td>\n",
       "      <td>0</td>\n",
       "      <td>0</td>\n",
       "      <td>0</td>\n",
       "      <td>0</td>\n",
       "      <td>0</td>\n",
       "      <td>0</td>\n",
       "    </tr>\n",
       "    <tr>\n",
       "      <th>2</th>\n",
       "      <td>3</td>\n",
       "      <td>L47182</td>\n",
       "      <td>L</td>\n",
       "      <td>298.1</td>\n",
       "      <td>308.5</td>\n",
       "      <td>1498</td>\n",
       "      <td>49.4</td>\n",
       "      <td>5</td>\n",
       "      <td>0</td>\n",
       "      <td>0</td>\n",
       "      <td>0</td>\n",
       "      <td>0</td>\n",
       "      <td>0</td>\n",
       "      <td>0</td>\n",
       "    </tr>\n",
       "    <tr>\n",
       "      <th>3</th>\n",
       "      <td>4</td>\n",
       "      <td>L47183</td>\n",
       "      <td>L</td>\n",
       "      <td>298.2</td>\n",
       "      <td>308.6</td>\n",
       "      <td>1433</td>\n",
       "      <td>39.5</td>\n",
       "      <td>7</td>\n",
       "      <td>0</td>\n",
       "      <td>0</td>\n",
       "      <td>0</td>\n",
       "      <td>0</td>\n",
       "      <td>0</td>\n",
       "      <td>0</td>\n",
       "    </tr>\n",
       "    <tr>\n",
       "      <th>4</th>\n",
       "      <td>5</td>\n",
       "      <td>L47184</td>\n",
       "      <td>L</td>\n",
       "      <td>298.2</td>\n",
       "      <td>308.7</td>\n",
       "      <td>1408</td>\n",
       "      <td>40.0</td>\n",
       "      <td>9</td>\n",
       "      <td>0</td>\n",
       "      <td>0</td>\n",
       "      <td>0</td>\n",
       "      <td>0</td>\n",
       "      <td>0</td>\n",
       "      <td>0</td>\n",
       "    </tr>\n",
       "  </tbody>\n",
       "</table>\n",
       "</div>"
      ],
      "text/plain": [
       "   UDI Product ID Type  Air temperature [K]  Process temperature [K]  \\\n",
       "0    1     M14860    M                298.1                    308.6   \n",
       "1    2     L47181    L                298.2                    308.7   \n",
       "2    3     L47182    L                298.1                    308.5   \n",
       "3    4     L47183    L                298.2                    308.6   \n",
       "4    5     L47184    L                298.2                    308.7   \n",
       "\n",
       "   Rotational speed [rpm]  Torque [Nm]  Tool wear [min]  Machine failure  TWF  \\\n",
       "0                    1551         42.8                0                0    0   \n",
       "1                    1408         46.3                3                0    0   \n",
       "2                    1498         49.4                5                0    0   \n",
       "3                    1433         39.5                7                0    0   \n",
       "4                    1408         40.0                9                0    0   \n",
       "\n",
       "   HDF  PWF  OSF  RNF  \n",
       "0    0    0    0    0  \n",
       "1    0    0    0    0  \n",
       "2    0    0    0    0  \n",
       "3    0    0    0    0  \n",
       "4    0    0    0    0  "
      ]
     },
     "execution_count": 4,
     "metadata": {},
     "output_type": "execute_result"
    }
   ],
   "source": [
    "# Displaying the first 5 rows of the DataFrame 'df' to quickly inspect the dataset\n",
    "df.head(5)\n"
   ]
  },
  {
   "cell_type": "code",
   "execution_count": 5,
   "metadata": {},
   "outputs": [],
   "source": [
    "# Dropping columns [\"UDI\", \"Product ID\", \"RNF\", \"OSF\", \"PWF\", \"HDF\", \"TWF\"] from the DataFrame 'df'\n",
    "# 'axis=1' specifies that columns are being dropped, and 'inplace=True' modifies 'df' in place\n",
    "df.drop([\"UDI\", \"Product ID\", \"RNF\", \"OSF\", \"PWF\", \"HDF\", \"TWF\"], axis=1, inplace=True)\n"
   ]
  },
  {
   "cell_type": "code",
   "execution_count": 6,
   "metadata": {},
   "outputs": [
    {
     "data": {
      "text/plain": [
       "(10000, 7)"
      ]
     },
     "execution_count": 6,
     "metadata": {},
     "output_type": "execute_result"
    }
   ],
   "source": [
    "# Displaying the dimensions of the DataFrame 'df' (number of rows, number of columns)\n",
    "df.shape"
   ]
  },
  {
   "cell_type": "code",
   "execution_count": 7,
   "metadata": {},
   "outputs": [
    {
     "data": {
      "text/plain": [
       "Index(['Type', 'Air temperature [K]', 'Process temperature [K]',\n",
       "       'Rotational speed [rpm]', 'Torque [Nm]', 'Tool wear [min]',\n",
       "       'Machine failure'],\n",
       "      dtype='object')"
      ]
     },
     "execution_count": 7,
     "metadata": {},
     "output_type": "execute_result"
    }
   ],
   "source": [
    "# Displaying the feature names (column labels) of the DataFrame 'df'\n",
    "df.columns\n"
   ]
  },
  {
   "cell_type": "code",
   "execution_count": 8,
   "metadata": {},
   "outputs": [
    {
     "data": {
      "text/html": [
       "<div>\n",
       "<style scoped>\n",
       "    .dataframe tbody tr th:only-of-type {\n",
       "        vertical-align: middle;\n",
       "    }\n",
       "\n",
       "    .dataframe tbody tr th {\n",
       "        vertical-align: top;\n",
       "    }\n",
       "\n",
       "    .dataframe thead th {\n",
       "        text-align: right;\n",
       "    }\n",
       "</style>\n",
       "<table border=\"1\" class=\"dataframe\">\n",
       "  <thead>\n",
       "    <tr style=\"text-align: right;\">\n",
       "      <th></th>\n",
       "      <th>Type</th>\n",
       "      <th>Air temperature [K]</th>\n",
       "      <th>Process temperature [K]</th>\n",
       "      <th>Rotational speed [rpm]</th>\n",
       "      <th>Torque [Nm]</th>\n",
       "      <th>Tool wear [min]</th>\n",
       "      <th>Machine failure</th>\n",
       "    </tr>\n",
       "  </thead>\n",
       "  <tbody>\n",
       "    <tr>\n",
       "      <th>count</th>\n",
       "      <td>10000</td>\n",
       "      <td>10000.000000</td>\n",
       "      <td>10000.000000</td>\n",
       "      <td>10000.000000</td>\n",
       "      <td>10000.000000</td>\n",
       "      <td>10000.000000</td>\n",
       "      <td>10000.000000</td>\n",
       "    </tr>\n",
       "    <tr>\n",
       "      <th>unique</th>\n",
       "      <td>3</td>\n",
       "      <td>NaN</td>\n",
       "      <td>NaN</td>\n",
       "      <td>NaN</td>\n",
       "      <td>NaN</td>\n",
       "      <td>NaN</td>\n",
       "      <td>NaN</td>\n",
       "    </tr>\n",
       "    <tr>\n",
       "      <th>top</th>\n",
       "      <td>L</td>\n",
       "      <td>NaN</td>\n",
       "      <td>NaN</td>\n",
       "      <td>NaN</td>\n",
       "      <td>NaN</td>\n",
       "      <td>NaN</td>\n",
       "      <td>NaN</td>\n",
       "    </tr>\n",
       "    <tr>\n",
       "      <th>freq</th>\n",
       "      <td>6000</td>\n",
       "      <td>NaN</td>\n",
       "      <td>NaN</td>\n",
       "      <td>NaN</td>\n",
       "      <td>NaN</td>\n",
       "      <td>NaN</td>\n",
       "      <td>NaN</td>\n",
       "    </tr>\n",
       "    <tr>\n",
       "      <th>mean</th>\n",
       "      <td>NaN</td>\n",
       "      <td>300.004930</td>\n",
       "      <td>310.005560</td>\n",
       "      <td>1538.776100</td>\n",
       "      <td>39.986910</td>\n",
       "      <td>107.951000</td>\n",
       "      <td>0.033900</td>\n",
       "    </tr>\n",
       "    <tr>\n",
       "      <th>std</th>\n",
       "      <td>NaN</td>\n",
       "      <td>2.000259</td>\n",
       "      <td>1.483734</td>\n",
       "      <td>179.284096</td>\n",
       "      <td>9.968934</td>\n",
       "      <td>63.654147</td>\n",
       "      <td>0.180981</td>\n",
       "    </tr>\n",
       "    <tr>\n",
       "      <th>min</th>\n",
       "      <td>NaN</td>\n",
       "      <td>295.300000</td>\n",
       "      <td>305.700000</td>\n",
       "      <td>1168.000000</td>\n",
       "      <td>3.800000</td>\n",
       "      <td>0.000000</td>\n",
       "      <td>0.000000</td>\n",
       "    </tr>\n",
       "    <tr>\n",
       "      <th>25%</th>\n",
       "      <td>NaN</td>\n",
       "      <td>298.300000</td>\n",
       "      <td>308.800000</td>\n",
       "      <td>1423.000000</td>\n",
       "      <td>33.200000</td>\n",
       "      <td>53.000000</td>\n",
       "      <td>0.000000</td>\n",
       "    </tr>\n",
       "    <tr>\n",
       "      <th>50%</th>\n",
       "      <td>NaN</td>\n",
       "      <td>300.100000</td>\n",
       "      <td>310.100000</td>\n",
       "      <td>1503.000000</td>\n",
       "      <td>40.100000</td>\n",
       "      <td>108.000000</td>\n",
       "      <td>0.000000</td>\n",
       "    </tr>\n",
       "    <tr>\n",
       "      <th>75%</th>\n",
       "      <td>NaN</td>\n",
       "      <td>301.500000</td>\n",
       "      <td>311.100000</td>\n",
       "      <td>1612.000000</td>\n",
       "      <td>46.800000</td>\n",
       "      <td>162.000000</td>\n",
       "      <td>0.000000</td>\n",
       "    </tr>\n",
       "    <tr>\n",
       "      <th>max</th>\n",
       "      <td>NaN</td>\n",
       "      <td>304.500000</td>\n",
       "      <td>313.800000</td>\n",
       "      <td>2886.000000</td>\n",
       "      <td>76.600000</td>\n",
       "      <td>253.000000</td>\n",
       "      <td>1.000000</td>\n",
       "    </tr>\n",
       "  </tbody>\n",
       "</table>\n",
       "</div>"
      ],
      "text/plain": [
       "         Type  Air temperature [K]  Process temperature [K]  \\\n",
       "count   10000         10000.000000             10000.000000   \n",
       "unique      3                  NaN                      NaN   \n",
       "top         L                  NaN                      NaN   \n",
       "freq     6000                  NaN                      NaN   \n",
       "mean      NaN           300.004930               310.005560   \n",
       "std       NaN             2.000259                 1.483734   \n",
       "min       NaN           295.300000               305.700000   \n",
       "25%       NaN           298.300000               308.800000   \n",
       "50%       NaN           300.100000               310.100000   \n",
       "75%       NaN           301.500000               311.100000   \n",
       "max       NaN           304.500000               313.800000   \n",
       "\n",
       "        Rotational speed [rpm]   Torque [Nm]  Tool wear [min]  Machine failure  \n",
       "count             10000.000000  10000.000000     10000.000000     10000.000000  \n",
       "unique                     NaN           NaN              NaN              NaN  \n",
       "top                        NaN           NaN              NaN              NaN  \n",
       "freq                       NaN           NaN              NaN              NaN  \n",
       "mean               1538.776100     39.986910       107.951000         0.033900  \n",
       "std                 179.284096      9.968934        63.654147         0.180981  \n",
       "min                1168.000000      3.800000         0.000000         0.000000  \n",
       "25%                1423.000000     33.200000        53.000000         0.000000  \n",
       "50%                1503.000000     40.100000       108.000000         0.000000  \n",
       "75%                1612.000000     46.800000       162.000000         0.000000  \n",
       "max                2886.000000     76.600000       253.000000         1.000000  "
      ]
     },
     "execution_count": 8,
     "metadata": {},
     "output_type": "execute_result"
    }
   ],
   "source": [
    "# Displaying a statistical summary of the columns in the DataFrame 'df'\n",
    "# The parameter 'include=\"all\"' ensures that both numerical and categorical columns are included\n",
    "df.describe(include=\"all\")\n"
   ]
  },
  {
   "cell_type": "code",
   "execution_count": 9,
   "metadata": {},
   "outputs": [
    {
     "data": {
      "text/plain": [
       "Type                       0\n",
       "Air temperature [K]        0\n",
       "Process temperature [K]    0\n",
       "Rotational speed [rpm]     0\n",
       "Torque [Nm]                0\n",
       "Tool wear [min]            0\n",
       "Machine failure            0\n",
       "dtype: int64"
      ]
     },
     "execution_count": 9,
     "metadata": {},
     "output_type": "execute_result"
    }
   ],
   "source": [
    "# Counting the number of null values in each column of the DataFrame 'df'\n",
    "df.isnull().sum()"
   ]
  },
  {
   "cell_type": "code",
   "execution_count": 10,
   "metadata": {},
   "outputs": [
    {
     "name": "stdout",
     "output_type": "stream",
     "text": [
      "<class 'pandas.core.frame.DataFrame'>\n",
      "RangeIndex: 10000 entries, 0 to 9999\n",
      "Data columns (total 7 columns):\n",
      " #   Column                   Non-Null Count  Dtype  \n",
      "---  ------                   --------------  -----  \n",
      " 0   Type                     10000 non-null  object \n",
      " 1   Air temperature [K]      10000 non-null  float64\n",
      " 2   Process temperature [K]  10000 non-null  float64\n",
      " 3   Rotational speed [rpm]   10000 non-null  int64  \n",
      " 4   Torque [Nm]              10000 non-null  float64\n",
      " 5   Tool wear [min]          10000 non-null  int64  \n",
      " 6   Machine failure          10000 non-null  int64  \n",
      "dtypes: float64(3), int64(3), object(1)\n",
      "memory usage: 547.0+ KB\n"
     ]
    }
   ],
   "source": [
    "# Displaying concise information about the DataFrame 'df'\n",
    "df.info()"
   ]
  },
  {
   "cell_type": "code",
   "execution_count": 11,
   "metadata": {},
   "outputs": [
    {
     "data": {
      "text/plain": [
       "L    6000\n",
       "M    2997\n",
       "H    1003\n",
       "Name: Type, dtype: int64"
      ]
     },
     "execution_count": 11,
     "metadata": {},
     "output_type": "execute_result"
    }
   ],
   "source": [
    "# Counting the occurrences of each unique value in the 'Type' column of the DataFrame 'df'\n",
    "df['Type'].value_counts()\n"
   ]
  },
  {
   "cell_type": "code",
   "execution_count": 12,
   "metadata": {},
   "outputs": [
    {
     "data": {
      "text/html": [
       "<div>\n",
       "<style scoped>\n",
       "    .dataframe tbody tr th:only-of-type {\n",
       "        vertical-align: middle;\n",
       "    }\n",
       "\n",
       "    .dataframe tbody tr th {\n",
       "        vertical-align: top;\n",
       "    }\n",
       "\n",
       "    .dataframe thead th {\n",
       "        text-align: right;\n",
       "    }\n",
       "</style>\n",
       "<table border=\"1\" class=\"dataframe\">\n",
       "  <thead>\n",
       "    <tr style=\"text-align: right;\">\n",
       "      <th></th>\n",
       "      <th>Type</th>\n",
       "      <th>Air temperature [K]</th>\n",
       "      <th>Process temperature [K]</th>\n",
       "      <th>Rotational speed [rpm]</th>\n",
       "      <th>Torque [Nm]</th>\n",
       "      <th>Tool wear [min]</th>\n",
       "      <th>Machine failure</th>\n",
       "    </tr>\n",
       "  </thead>\n",
       "  <tbody>\n",
       "    <tr>\n",
       "      <th>0</th>\n",
       "      <td>M</td>\n",
       "      <td>298.1</td>\n",
       "      <td>308.6</td>\n",
       "      <td>1551</td>\n",
       "      <td>42.8</td>\n",
       "      <td>0</td>\n",
       "      <td>0</td>\n",
       "    </tr>\n",
       "    <tr>\n",
       "      <th>1</th>\n",
       "      <td>L</td>\n",
       "      <td>298.2</td>\n",
       "      <td>308.7</td>\n",
       "      <td>1408</td>\n",
       "      <td>46.3</td>\n",
       "      <td>3</td>\n",
       "      <td>0</td>\n",
       "    </tr>\n",
       "    <tr>\n",
       "      <th>2</th>\n",
       "      <td>L</td>\n",
       "      <td>298.1</td>\n",
       "      <td>308.5</td>\n",
       "      <td>1498</td>\n",
       "      <td>49.4</td>\n",
       "      <td>5</td>\n",
       "      <td>0</td>\n",
       "    </tr>\n",
       "    <tr>\n",
       "      <th>3</th>\n",
       "      <td>L</td>\n",
       "      <td>298.2</td>\n",
       "      <td>308.6</td>\n",
       "      <td>1433</td>\n",
       "      <td>39.5</td>\n",
       "      <td>7</td>\n",
       "      <td>0</td>\n",
       "    </tr>\n",
       "    <tr>\n",
       "      <th>4</th>\n",
       "      <td>L</td>\n",
       "      <td>298.2</td>\n",
       "      <td>308.7</td>\n",
       "      <td>1408</td>\n",
       "      <td>40.0</td>\n",
       "      <td>9</td>\n",
       "      <td>0</td>\n",
       "    </tr>\n",
       "  </tbody>\n",
       "</table>\n",
       "</div>"
      ],
      "text/plain": [
       "  Type  Air temperature [K]  Process temperature [K]  Rotational speed [rpm]  \\\n",
       "0    M                298.1                    308.6                    1551   \n",
       "1    L                298.2                    308.7                    1408   \n",
       "2    L                298.1                    308.5                    1498   \n",
       "3    L                298.2                    308.6                    1433   \n",
       "4    L                298.2                    308.7                    1408   \n",
       "\n",
       "   Torque [Nm]  Tool wear [min]  Machine failure  \n",
       "0         42.8                0                0  \n",
       "1         46.3                3                0  \n",
       "2         49.4                5                0  \n",
       "3         39.5                7                0  \n",
       "4         40.0                9                0  "
      ]
     },
     "execution_count": 12,
     "metadata": {},
     "output_type": "execute_result"
    }
   ],
   "source": [
    "# Displaying the first 5 rows of the DataFrame 'df' to provide a snapshot of the dataset\n",
    "df.head(5)\n"
   ]
  },
  {
   "cell_type": "code",
   "execution_count": 13,
   "metadata": {},
   "outputs": [
    {
     "data": {
      "text/plain": [
       "<seaborn.axisgrid.FacetGrid at 0x1fa84ed3050>"
      ]
     },
     "execution_count": 13,
     "metadata": {},
     "output_type": "execute_result"
    },
    {
     "data": {
      "image/png": "[encoded data removed]",
      "text/plain": [
       "<Figure size 500x500 with 1 Axes>"
      ]
     },
     "metadata": {},
     "output_type": "display_data"
    }
   ],
   "source": [
    "# Creating a categorical plot using seaborn to visualize the count of occurrences for each category in the 'Type' column\n",
    "# and the 'Machine failure' column of the DataFrame 'df_cat'\n",
    "sns.catplot(x='Type', kind='count', data=df, orient='h')\n"
   ]
  },
  {
   "cell_type": "code",
   "execution_count": 14,
   "metadata": {},
   "outputs": [
    {
     "data": {
      "text/plain": [
       "<seaborn.axisgrid.FacetGrid at 0x1fa85013790>"
      ]
     },
     "execution_count": 14,
     "metadata": {},
     "output_type": "execute_result"
    },
    {
     "data": {
      "image/png": "[encoded data removed]",
      "text/plain": [
       "<Figure size 500x500 with 1 Axes>"
      ]
     },
     "metadata": {},
     "output_type": "display_data"
    }
   ],
   "source": [
    "# Creating a categorical plot using seaborn to visualize the count of occurrences for each category in the 'Machine failure' column\n",
    "# of the DataFrame 'df', with a horizontal bar orientation\n",
    "sns.catplot(x='Machine failure', kind='count', data=df, orient='h')\n"
   ]
  },
  {
   "cell_type": "code",
   "execution_count": 15,
   "metadata": {},
   "outputs": [
    {
     "data": {
      "text/plain": [
       "0    9661\n",
       "1     339\n",
       "Name: Machine failure, dtype: int64"
      ]
     },
     "execution_count": 15,
     "metadata": {},
     "output_type": "execute_result"
    }
   ],
   "source": [
    "# Counting the occurrences of each unique value in the 'Machine failure' column of the DataFrame 'df'\n",
    "df['Machine failure'].value_counts()\n"
   ]
  },
  {
   "cell_type": "code",
   "execution_count": 16,
   "metadata": {},
   "outputs": [],
   "source": [
    "# Importing the 'resample' function from scikit-learn to address class imbalance\n",
    "from sklearn.utils import resample\n",
    "\n",
    "# Creating two separate DataFrames for the majority and minority classes based on the 'Machine failure' column\n",
    "df_majority = df[df['Machine failure'] == 0]\n",
    "df_minority = df[df['Machine failure'] == 1]\n",
    "\n",
    "# Upsampling the minority class to address class imbalance\n",
    "df_minority_upsampled = resample(df_minority,\n",
    "                                 replace=True,     # Sampling with replacement\n",
    "                                 n_samples=9661,   # Matching the number of samples in the majority class\n",
    "                                 random_state=42)  # Ensuring reproducible results\n",
    "\n",
    "# Combining the majority class with the upsampled minority class to create a balanced DataFrame\n",
    "df_upsampled = pd.concat([df_minority_upsampled, df_majority])\n"
   ]
  },
  {
   "cell_type": "code",
   "execution_count": 17,
   "metadata": {},
   "outputs": [
    {
     "data": {
      "text/plain": [
       "1    9661\n",
       "0    9661\n",
       "Name: Machine failure, dtype: int64"
      ]
     },
     "execution_count": 17,
     "metadata": {},
     "output_type": "execute_result"
    }
   ],
   "source": [
    "# Counting the occurrences of each unique value in the 'Machine failure' column after upsampling\n",
    "df_upsampled['Machine failure'].value_counts()\n"
   ]
  },
  {
   "cell_type": "code",
   "execution_count": 18,
   "metadata": {},
   "outputs": [
    {
     "data": {
      "text/plain": [
       "<seaborn.axisgrid.FacetGrid at 0x1fa85bda510>"
      ]
     },
     "execution_count": 18,
     "metadata": {},
     "output_type": "execute_result"
    },
    {
     "data": {
      "image/png": "[encoded data removed]",
      "text/plain": [
       "<Figure size 500x500 with 1 Axes>"
      ]
     },
     "metadata": {},
     "output_type": "display_data"
    }
   ],
   "source": [
    "# Creating a categorical plot using seaborn to visualize the count of occurrences for each category in the 'Machine failure' column\n",
    "# of the upsampled DataFrame 'df_upsampled', with a horizontal bar orientation\n",
    "sns.catplot(x='Machine failure', kind='count', data=df_upsampled, orient='h')\n"
   ]
  },
  {
   "cell_type": "code",
   "execution_count": 19,
   "metadata": {},
   "outputs": [
    {
     "data": {
      "text/plain": [
       "Index(['Type', 'Air temperature [K]', 'Process temperature [K]',\n",
       "       'Rotational speed [rpm]', 'Torque [Nm]', 'Tool wear [min]',\n",
       "       'Machine failure'],\n",
       "      dtype='object')"
      ]
     },
     "execution_count": 19,
     "metadata": {},
     "output_type": "execute_result"
    }
   ],
   "source": [
    "# Displaying the column names (features) of the upsampled DataFrame 'df_upsampled'\n",
    "df_upsampled.columns\n"
   ]
  },
  {
   "cell_type": "code",
   "execution_count": 20,
   "metadata": {},
   "outputs": [],
   "source": [
    "# Defining a list 'df_numeric' containing the names of numeric columns in the DataFrame 'df'\n",
    "df_numeric = ['Air temperature [K]', 'Process temperature [K]',\n",
    "              'Rotational speed [rpm]', 'Torque [Nm]', 'Tool wear [min]']\n"
   ]
  },
  {
   "cell_type": "code",
   "execution_count": 21,
   "metadata": {},
   "outputs": [
    {
     "data": {
      "text/plain": [
       "array([[<Axes: title={'center': 'Air temperature [K]'}>,\n",
       "        <Axes: title={'center': 'Process temperature [K]'}>],\n",
       "       [<Axes: title={'center': 'Rotational speed [rpm]'}>,\n",
       "        <Axes: title={'center': 'Torque [Nm]'}>],\n",
       "       [<Axes: title={'center': 'Tool wear [min]'}>,\n",
       "        <Axes: title={'center': 'Machine failure'}>]], dtype=object)"
      ]
     },
     "execution_count": 21,
     "metadata": {},
     "output_type": "execute_result"
    },
    {
     "data": {
      "image/png": "[encoded data removed]",
      "text/plain": [
       "<Figure size 1000x1500 with 6 Axes>"
      ]
     },
     "metadata": {},
     "output_type": "display_data"
    }
   ],
   "source": [
    "# Setting the number of bins for the histogram visualization\n",
    "num_bins = 6\n",
    "\n",
    "# Generating histograms for numeric columns in the upsampled DataFrame 'df_upsampled'\n",
    "# The 'figsize' parameter determines the size of the figure\n",
    "df_upsampled.hist(bins=num_bins, figsize=(10, 15))\n"
   ]
  },
  {
   "cell_type": "code",
   "execution_count": 22,
   "metadata": {},
   "outputs": [
    {
     "data": {
      "text/html": [
       "<div>\n",
       "<style scoped>\n",
       "    .dataframe tbody tr th:only-of-type {\n",
       "        vertical-align: middle;\n",
       "    }\n",
       "\n",
       "    .dataframe tbody tr th {\n",
       "        vertical-align: top;\n",
       "    }\n",
       "\n",
       "    .dataframe thead th {\n",
       "        text-align: right;\n",
       "    }\n",
       "</style>\n",
       "<table border=\"1\" class=\"dataframe\">\n",
       "  <thead>\n",
       "    <tr style=\"text-align: right;\">\n",
       "      <th></th>\n",
       "      <th>H</th>\n",
       "      <th>L</th>\n",
       "      <th>M</th>\n",
       "    </tr>\n",
       "  </thead>\n",
       "  <tbody>\n",
       "    <tr>\n",
       "      <th>4024</th>\n",
       "      <td>0</td>\n",
       "      <td>0</td>\n",
       "      <td>1</td>\n",
       "    </tr>\n",
       "    <tr>\n",
       "      <th>6618</th>\n",
       "      <td>0</td>\n",
       "      <td>0</td>\n",
       "      <td>1</td>\n",
       "    </tr>\n",
       "    <tr>\n",
       "      <th>4048</th>\n",
       "      <td>0</td>\n",
       "      <td>1</td>\n",
       "      <td>0</td>\n",
       "    </tr>\n",
       "    <tr>\n",
       "      <th>2864</th>\n",
       "      <td>1</td>\n",
       "      <td>0</td>\n",
       "      <td>0</td>\n",
       "    </tr>\n",
       "    <tr>\n",
       "      <th>4596</th>\n",
       "      <td>0</td>\n",
       "      <td>1</td>\n",
       "      <td>0</td>\n",
       "    </tr>\n",
       "  </tbody>\n",
       "</table>\n",
       "</div>"
      ],
      "text/plain": [
       "      H  L  M\n",
       "4024  0  0  1\n",
       "6618  0  0  1\n",
       "4048  0  1  0\n",
       "2864  1  0  0\n",
       "4596  0  1  0"
      ]
     },
     "execution_count": 22,
     "metadata": {},
     "output_type": "execute_result"
    }
   ],
   "source": [
    "# Create dummy variables for the 'Type' column using the get_dummies() function from Pandas\n",
    "# The 'Type' column is passed as the first parameter to get_dummies()\n",
    "type1 = pd.get_dummies(df_upsampled[\"Type\"])\n",
    "\n",
    "# Display the first few rows of the resulting DataFrame 'type1'\n",
    "type1.head()\n"
   ]
  },
  {
   "cell_type": "code",
   "execution_count": 23,
   "metadata": {},
   "outputs": [],
   "source": [
    "# Drop the original 'Type' column from the upsampled DataFrame 'df_upsampled'\n",
    "# The 'axis=1' parameter specifies that a column is being dropped, and 'inplace=True' modifies 'df_upsampled' directly\n",
    "df_upsampled.drop([\"Type\"], axis=1, inplace=True)\n"
   ]
  },
  {
   "cell_type": "code",
   "execution_count": 24,
   "metadata": {},
   "outputs": [
    {
     "data": {
      "text/html": [
       "<div>\n",
       "<style scoped>\n",
       "    .dataframe tbody tr th:only-of-type {\n",
       "        vertical-align: middle;\n",
       "    }\n",
       "\n",
       "    .dataframe tbody tr th {\n",
       "        vertical-align: top;\n",
       "    }\n",
       "\n",
       "    .dataframe thead th {\n",
       "        text-align: right;\n",
       "    }\n",
       "</style>\n",
       "<table border=\"1\" class=\"dataframe\">\n",
       "  <thead>\n",
       "    <tr style=\"text-align: right;\">\n",
       "      <th></th>\n",
       "      <th>Air temperature [K]</th>\n",
       "      <th>Process temperature [K]</th>\n",
       "      <th>Rotational speed [rpm]</th>\n",
       "      <th>Torque [Nm]</th>\n",
       "      <th>Tool wear [min]</th>\n",
       "      <th>Machine failure</th>\n",
       "    </tr>\n",
       "  </thead>\n",
       "  <tbody>\n",
       "    <tr>\n",
       "      <th>4024</th>\n",
       "      <td>302.1</td>\n",
       "      <td>311.0</td>\n",
       "      <td>1351</td>\n",
       "      <td>60.3</td>\n",
       "      <td>207</td>\n",
       "      <td>1</td>\n",
       "    </tr>\n",
       "  </tbody>\n",
       "</table>\n",
       "</div>"
      ],
      "text/plain": [
       "      Air temperature [K]  Process temperature [K]  Rotational speed [rpm]  \\\n",
       "4024                302.1                    311.0                    1351   \n",
       "\n",
       "      Torque [Nm]  Tool wear [min]  Machine failure  \n",
       "4024         60.3              207                1  "
      ]
     },
     "execution_count": 24,
     "metadata": {},
     "output_type": "execute_result"
    }
   ],
   "source": [
    "# Displaying the upsampled DataFrame 'df_upsampled' after dropping columns\n",
    "df_upsampled.head(1)"
   ]
  },
  {
   "cell_type": "code",
   "execution_count": 25,
   "metadata": {},
   "outputs": [],
   "source": [
    "# Concatenating the dummy variables DataFrame 'type1' and the upsampled DataFrame 'df_upsampled' along the columns (axis=1)\n",
    "df_1 = pd.concat([type1, df_upsampled], axis=1)\n"
   ]
  },
  {
   "cell_type": "code",
   "execution_count": 26,
   "metadata": {},
   "outputs": [
    {
     "data": {
      "text/html": [
       "<div>\n",
       "<style scoped>\n",
       "    .dataframe tbody tr th:only-of-type {\n",
       "        vertical-align: middle;\n",
       "    }\n",
       "\n",
       "    .dataframe tbody tr th {\n",
       "        vertical-align: top;\n",
       "    }\n",
       "\n",
       "    .dataframe thead th {\n",
       "        text-align: right;\n",
       "    }\n",
       "</style>\n",
       "<table border=\"1\" class=\"dataframe\">\n",
       "  <thead>\n",
       "    <tr style=\"text-align: right;\">\n",
       "      <th></th>\n",
       "      <th>H</th>\n",
       "      <th>L</th>\n",
       "      <th>M</th>\n",
       "      <th>Air temperature [K]</th>\n",
       "      <th>Process temperature [K]</th>\n",
       "      <th>Rotational speed [rpm]</th>\n",
       "      <th>Torque [Nm]</th>\n",
       "      <th>Tool wear [min]</th>\n",
       "      <th>Machine failure</th>\n",
       "    </tr>\n",
       "  </thead>\n",
       "  <tbody>\n",
       "    <tr>\n",
       "      <th>4024</th>\n",
       "      <td>0</td>\n",
       "      <td>0</td>\n",
       "      <td>1</td>\n",
       "      <td>302.1</td>\n",
       "      <td>311.0</td>\n",
       "      <td>1351</td>\n",
       "      <td>60.3</td>\n",
       "      <td>207</td>\n",
       "      <td>1</td>\n",
       "    </tr>\n",
       "    <tr>\n",
       "      <th>6618</th>\n",
       "      <td>0</td>\n",
       "      <td>0</td>\n",
       "      <td>1</td>\n",
       "      <td>301.6</td>\n",
       "      <td>310.6</td>\n",
       "      <td>1309</td>\n",
       "      <td>65.8</td>\n",
       "      <td>75</td>\n",
       "      <td>1</td>\n",
       "    </tr>\n",
       "    <tr>\n",
       "      <th>4048</th>\n",
       "      <td>0</td>\n",
       "      <td>1</td>\n",
       "      <td>0</td>\n",
       "      <td>301.9</td>\n",
       "      <td>311.0</td>\n",
       "      <td>2691</td>\n",
       "      <td>12.1</td>\n",
       "      <td>31</td>\n",
       "      <td>1</td>\n",
       "    </tr>\n",
       "    <tr>\n",
       "      <th>2864</th>\n",
       "      <td>1</td>\n",
       "      <td>0</td>\n",
       "      <td>0</td>\n",
       "      <td>300.6</td>\n",
       "      <td>309.4</td>\n",
       "      <td>1380</td>\n",
       "      <td>47.6</td>\n",
       "      <td>246</td>\n",
       "      <td>1</td>\n",
       "    </tr>\n",
       "  </tbody>\n",
       "</table>\n",
       "</div>"
      ],
      "text/plain": [
       "      H  L  M  Air temperature [K]  Process temperature [K]  \\\n",
       "4024  0  0  1                302.1                    311.0   \n",
       "6618  0  0  1                301.6                    310.6   \n",
       "4048  0  1  0                301.9                    311.0   \n",
       "2864  1  0  0                300.6                    309.4   \n",
       "\n",
       "      Rotational speed [rpm]  Torque [Nm]  Tool wear [min]  Machine failure  \n",
       "4024                    1351         60.3              207                1  \n",
       "6618                    1309         65.8               75                1  \n",
       "4048                    2691         12.1               31                1  \n",
       "2864                    1380         47.6              246                1  "
      ]
     },
     "execution_count": 26,
     "metadata": {},
     "output_type": "execute_result"
    }
   ],
   "source": [
    "# Displaying the first 4 rows of the concatenated DataFrame 'df_1'\n",
    "df_1.head(4)\n"
   ]
  },
  {
   "cell_type": "markdown",
   "metadata": {},
   "source": [
    "## Feature Selection"
   ]
  },
  {
   "cell_type": "code",
   "execution_count": 27,
   "metadata": {},
   "outputs": [],
   "source": [
    "# Creating feature matrix 'X' by dropping the 'Machine failure' column from the DataFrame 'df_1'\n",
    "X = df_1.drop('Machine failure', axis=1)\n",
    "\n",
    "# Creating target variable 'y' by selecting the 'Machine failure' column from the DataFrame 'df_1'\n",
    "y = df_1['Machine failure']\n"
   ]
  },
  {
   "cell_type": "code",
   "execution_count": 28,
   "metadata": {},
   "outputs": [],
   "source": [
    "# Importing the SelectKBest class and the chi2 (chi-squared) statistic from scikit-learn for feature selection\n",
    "from sklearn.feature_selection import SelectKBest\n",
    "from sklearn.feature_selection import chi2\n"
   ]
  },
  {
   "cell_type": "code",
   "execution_count": 29,
   "metadata": {},
   "outputs": [],
   "source": [
    "# Creating an instance of SelectKBest with the chi-squared statistic as the scoring function and 'k' set to 'all'\n",
    "bestfeatures = SelectKBest(score_func=chi2, k='all')\n",
    "\n",
    "# Fitting SelectKBest to the feature matrix 'X' and target variable 'y'\n",
    "fit = bestfeatures.fit(X, y)\n"
   ]
  },
  {
   "cell_type": "code",
   "execution_count": 30,
   "metadata": {},
   "outputs": [],
   "source": [
    "# Creating a DataFrame 'dfscores' to store the scores obtained from the feature selection\n",
    "dfscores = pd.DataFrame(fit.scores_)\n",
    "\n",
    "# Creating a DataFrame 'dfcolumns' to store the names of the features (columns) from the original DataFrame 'X'\n",
    "dfcolumns = pd.DataFrame(X.columns)\n"
   ]
  },
  {
   "cell_type": "code",
   "execution_count": 31,
   "metadata": {},
   "outputs": [
    {
     "data": {
      "text/html": [
       "<div>\n",
       "<style scoped>\n",
       "    .dataframe tbody tr th:only-of-type {\n",
       "        vertical-align: middle;\n",
       "    }\n",
       "\n",
       "    .dataframe tbody tr th {\n",
       "        vertical-align: top;\n",
       "    }\n",
       "\n",
       "    .dataframe thead th {\n",
       "        text-align: right;\n",
       "    }\n",
       "</style>\n",
       "<table border=\"1\" class=\"dataframe\">\n",
       "  <thead>\n",
       "    <tr style=\"text-align: right;\">\n",
       "      <th></th>\n",
       "      <th>Features</th>\n",
       "      <th>Score</th>\n",
       "    </tr>\n",
       "  </thead>\n",
       "  <tbody>\n",
       "    <tr>\n",
       "      <th>0</th>\n",
       "      <td>H</td>\n",
       "      <td>91.699937</td>\n",
       "    </tr>\n",
       "    <tr>\n",
       "      <th>1</th>\n",
       "      <td>L</td>\n",
       "      <td>70.134376</td>\n",
       "    </tr>\n",
       "    <tr>\n",
       "      <th>2</th>\n",
       "      <td>M</td>\n",
       "      <td>58.194160</td>\n",
       "    </tr>\n",
       "    <tr>\n",
       "      <th>3</th>\n",
       "      <td>Air temperature [K]</td>\n",
       "      <td>13.475922</td>\n",
       "    </tr>\n",
       "    <tr>\n",
       "      <th>4</th>\n",
       "      <td>Process temperature [K]</td>\n",
       "      <td>1.249640</td>\n",
       "    </tr>\n",
       "    <tr>\n",
       "      <th>5</th>\n",
       "      <td>Rotational speed [rpm]</td>\n",
       "      <td>6682.505697</td>\n",
       "    </tr>\n",
       "    <tr>\n",
       "      <th>6</th>\n",
       "      <td>Torque [Nm]</td>\n",
       "      <td>12150.194168</td>\n",
       "    </tr>\n",
       "    <tr>\n",
       "      <th>7</th>\n",
       "      <td>Tool wear [min]</td>\n",
       "      <td>51768.667284</td>\n",
       "    </tr>\n",
       "  </tbody>\n",
       "</table>\n",
       "</div>"
      ],
      "text/plain": [
       "                  Features         Score\n",
       "0                        H     91.699937\n",
       "1                        L     70.134376\n",
       "2                        M     58.194160\n",
       "3      Air temperature [K]     13.475922\n",
       "4  Process temperature [K]      1.249640\n",
       "5   Rotational speed [rpm]   6682.505697\n",
       "6              Torque [Nm]  12150.194168\n",
       "7          Tool wear [min]  51768.667284"
      ]
     },
     "execution_count": 31,
     "metadata": {},
     "output_type": "execute_result"
    }
   ],
   "source": [
    "# Concatenating 'dfcolumns' and 'dfscores' along the columns to create 'featureScores' DataFrame\n",
    "featureScores = pd.concat([dfcolumns, dfscores], axis=1)\n",
    "\n",
    "# Naming the columns of 'featureScores' as 'Features' and 'Score'\n",
    "featureScores.columns = ['Features', 'Score']\n",
    "\n",
    "# Displaying the resulting DataFrame 'featureScores'\n",
    "featureScores"
   ]
  },
  {
   "cell_type": "code",
   "execution_count": 32,
   "metadata": {},
   "outputs": [
    {
     "name": "stdout",
     "output_type": "stream",
     "text": [
      "                  Features         Score\n",
      "7          Tool wear [min]  51768.667284\n",
      "6              Torque [Nm]  12150.194168\n",
      "5   Rotational speed [rpm]   6682.505697\n",
      "0                        H     91.699937\n",
      "1                        L     70.134376\n",
      "2                        M     58.194160\n",
      "3      Air temperature [K]     13.475922\n",
      "4  Process temperature [K]      1.249640\n"
     ]
    }
   ],
   "source": [
    "# Printing the top 8 features with the highest scores from the 'featureScores' DataFrame\n",
    "print(featureScores.nlargest(8, 'Score'))\n"
   ]
  },
  {
   "cell_type": "code",
   "execution_count": 33,
   "metadata": {},
   "outputs": [
    {
     "data": {
      "text/html": [
       "<div>\n",
       "<style scoped>\n",
       "    .dataframe tbody tr th:only-of-type {\n",
       "        vertical-align: middle;\n",
       "    }\n",
       "\n",
       "    .dataframe tbody tr th {\n",
       "        vertical-align: top;\n",
       "    }\n",
       "\n",
       "    .dataframe thead th {\n",
       "        text-align: right;\n",
       "    }\n",
       "</style>\n",
       "<table border=\"1\" class=\"dataframe\">\n",
       "  <thead>\n",
       "    <tr style=\"text-align: right;\">\n",
       "      <th></th>\n",
       "      <th>H</th>\n",
       "      <th>L</th>\n",
       "      <th>M</th>\n",
       "      <th>Air temperature [K]</th>\n",
       "      <th>Rotational speed [rpm]</th>\n",
       "      <th>Torque [Nm]</th>\n",
       "      <th>Tool wear [min]</th>\n",
       "    </tr>\n",
       "  </thead>\n",
       "  <tbody>\n",
       "    <tr>\n",
       "      <th>4024</th>\n",
       "      <td>0</td>\n",
       "      <td>0</td>\n",
       "      <td>1</td>\n",
       "      <td>302.1</td>\n",
       "      <td>1351</td>\n",
       "      <td>60.3</td>\n",
       "      <td>207</td>\n",
       "    </tr>\n",
       "    <tr>\n",
       "      <th>6618</th>\n",
       "      <td>0</td>\n",
       "      <td>0</td>\n",
       "      <td>1</td>\n",
       "      <td>301.6</td>\n",
       "      <td>1309</td>\n",
       "      <td>65.8</td>\n",
       "      <td>75</td>\n",
       "    </tr>\n",
       "    <tr>\n",
       "      <th>4048</th>\n",
       "      <td>0</td>\n",
       "      <td>1</td>\n",
       "      <td>0</td>\n",
       "      <td>301.9</td>\n",
       "      <td>2691</td>\n",
       "      <td>12.1</td>\n",
       "      <td>31</td>\n",
       "    </tr>\n",
       "  </tbody>\n",
       "</table>\n",
       "</div>"
      ],
      "text/plain": [
       "      H  L  M  Air temperature [K]  Rotational speed [rpm]  Torque [Nm]  \\\n",
       "4024  0  0  1                302.1                    1351         60.3   \n",
       "6618  0  0  1                301.6                    1309         65.8   \n",
       "4048  0  1  0                301.9                    2691         12.1   \n",
       "\n",
       "      Tool wear [min]  \n",
       "4024              207  \n",
       "6618               75  \n",
       "4048               31  "
      ]
     },
     "execution_count": 33,
     "metadata": {},
     "output_type": "execute_result"
    }
   ],
   "source": [
    "# Dropping the 'Process temperature [K]' column from the feature matrix 'X'\n",
    "# The 'axis=1' parameter specifies that a column is being dropped, and 'inplace=True' modifies 'X' directly\n",
    "X.drop(['Process temperature [K]'], axis=1, inplace=True)\n",
    "\n",
    "# Displaying the first 3 rows of the modified feature matrix 'X'\n",
    "X.head(3)\n"
   ]
  },
  {
   "cell_type": "code",
   "execution_count": 34,
   "metadata": {},
   "outputs": [],
   "source": [
    "# Importing the 'train_test_split' function from scikit-learn to split the dataset into training and testing sets\n",
    "from sklearn.model_selection import train_test_split\n",
    "\n",
    "# Splitting the feature matrix 'X' and target variable 'y' into training and testing sets\n",
    "# The 'test_size' parameter determines the proportion of the dataset allocated to the testing set (here, 20%)\n",
    "# The 'random_state' parameter ensures reproducibility of the split\n",
    "X_train, X_test, y_train, y_test = train_test_split(X, y, test_size=0.2, random_state=42)\n"
   ]
  },
  {
   "cell_type": "code",
   "execution_count": 35,
   "metadata": {},
   "outputs": [
    {
     "name": "stdout",
     "output_type": "stream",
     "text": [
      "(15457, 7)\n",
      "(3865, 7)\n",
      "(15457,)\n",
      "(3865,)\n"
     ]
    }
   ],
   "source": [
    "# Printing the dimensions of the training feature matrix 'X_train'\n",
    "print(X_train.shape)\n",
    "\n",
    "# Printing the dimensions of the testing feature matrix 'X_test'\n",
    "print(X_test.shape)\n",
    "\n",
    "# Printing the dimensions of the training target variable 'y_train'\n",
    "print(y_train.shape)\n",
    "\n",
    "# Printing the dimensions of the testing target variable 'y_test'\n",
    "print(y_test.shape)\n"
   ]
  },
  {
   "cell_type": "code",
   "execution_count": 36,
   "metadata": {},
   "outputs": [],
   "source": [
    "# Importing the 'StandardScaler' class from scikit-learn for feature scaling\n",
    "from sklearn.preprocessing import StandardScaler\n",
    "\n",
    "# Creating an instance of the 'StandardScaler' class\n",
    "sc = StandardScaler()\n",
    "\n",
    "# Scaling the training feature matrix 'X_train' by fitting and transforming it\n",
    "X_train = sc.fit_transform(X_train)\n",
    "\n",
    "# Scaling the testing feature matrix 'X_test' using the parameters learned from the training set\n",
    "X_test = sc.transform(X_test)\n"
   ]
  },
  {
   "cell_type": "code",
   "execution_count": 37,
   "metadata": {},
   "outputs": [],
   "source": [
    "# Importing the Keras library for building artificial neural networks\n",
    "import keras\n",
    "\n",
    "# Importing necessary components from Keras for building a sequential model\n",
    "from keras.models import Sequential\n",
    "from keras.layers import Dropout\n",
    "from keras.layers import BatchNormalization\n",
    "from keras.layers import Dense\n"
   ]
  },
  {
   "cell_type": "code",
   "execution_count": 38,
   "metadata": {},
   "outputs": [],
   "source": [
    "# Initializing an artificial neural network (ANN) using the Sequential model in Keras\n",
    "model = Sequential()\n",
    "\n",
    "# Adding the first input layer and the first hidden layer with 10 neurons, ReLU activation, and He normal initialization\n",
    "model.add(Dense(10, kernel_initializer='he_normal', activation='relu', input_shape=(7,)))\n",
    "\n",
    "# Adding batch normalization before dropout for regularization\n",
    "model.add(BatchNormalization())\n",
    "model.add(Dropout(rate=0.1))\n",
    "\n",
    "# Adding the second hidden layer with 7 neurons, ReLU activation, and He normal initialization\n",
    "model.add(Dense(7, kernel_initializer='he_normal', activation='relu'))\n",
    "\n",
    "# Adding batch normalization before dropout for regularization\n",
    "model.add(BatchNormalization())\n",
    "model.add(Dropout(rate=0.1))\n",
    "\n",
    "# Adding the output layer with 1 neuron, sigmoid activation for binary classification\n",
    "model.add(Dense(1, kernel_initializer='he_normal', activation='sigmoid'))\n"
   ]
  },
  {
   "cell_type": "code",
   "execution_count": 39,
   "metadata": {},
   "outputs": [],
   "source": [
    "# Compiling the neural network model with the Adam optimizer, binary crossentropy loss, and accuracy as the metric\n",
    "model.compile(optimizer='adam', loss='binary_crossentropy', metrics=['accuracy'])\n"
   ]
  },
  {
   "cell_type": "code",
   "execution_count": 40,
   "metadata": {},
   "outputs": [
    {
     "name": "stdout",
     "output_type": "stream",
     "text": [
      "Epoch 1/200\n",
      "484/484 [==============================] - 4s 4ms/step - loss: 0.5189 - accuracy: 0.7364 - val_loss: 0.3506 - val_accuracy: 0.8329\n",
      "Epoch 2/200\n",
      "484/484 [==============================] - 1s 3ms/step - loss: 0.3701 - accuracy: 0.8388 - val_loss: 0.2851 - val_accuracy: 0.8784\n",
      "Epoch 3/200\n",
      "484/484 [==============================] - 1s 3ms/step - loss: 0.3315 - accuracy: 0.8603 - val_loss: 0.2628 - val_accuracy: 0.8973\n",
      "Epoch 4/200\n",
      "484/484 [==============================] - 1s 3ms/step - loss: 0.3152 - accuracy: 0.8689 - val_loss: 0.2548 - val_accuracy: 0.9025\n",
      "Epoch 5/200\n",
      "484/484 [==============================] - 1s 3ms/step - loss: 0.3083 - accuracy: 0.8742 - val_loss: 0.2481 - val_accuracy: 0.9001\n",
      "Epoch 6/200\n",
      "484/484 [==============================] - 1s 3ms/step - loss: 0.2981 - accuracy: 0.8795 - val_loss: 0.2419 - val_accuracy: 0.9082\n",
      "Epoch 7/200\n",
      "484/484 [==============================] - 1s 3ms/step - loss: 0.2914 - accuracy: 0.8852 - val_loss: 0.2373 - val_accuracy: 0.9069\n",
      "Epoch 8/200\n",
      "484/484 [==============================] - 1s 3ms/step - loss: 0.2911 - accuracy: 0.8834 - val_loss: 0.2362 - val_accuracy: 0.9066\n",
      "Epoch 9/200\n",
      "484/484 [==============================] - 2s 3ms/step - loss: 0.2908 - accuracy: 0.8871 - val_loss: 0.2368 - val_accuracy: 0.9025\n",
      "Epoch 10/200\n",
      "484/484 [==============================] - 2s 3ms/step - loss: 0.2767 - accuracy: 0.8899 - val_loss: 0.2251 - val_accuracy: 0.9213\n",
      "Epoch 11/200\n",
      "484/484 [==============================] - 1s 3ms/step - loss: 0.2740 - accuracy: 0.8914 - val_loss: 0.2225 - val_accuracy: 0.9182\n",
      "Epoch 12/200\n",
      "484/484 [==============================] - 1s 3ms/step - loss: 0.2684 - accuracy: 0.8964 - val_loss: 0.2246 - val_accuracy: 0.9164\n",
      "Epoch 13/200\n",
      "484/484 [==============================] - 1s 3ms/step - loss: 0.2710 - accuracy: 0.8957 - val_loss: 0.2171 - val_accuracy: 0.9247\n",
      "Epoch 14/200\n",
      "484/484 [==============================] - 1s 3ms/step - loss: 0.2663 - accuracy: 0.8982 - val_loss: 0.2144 - val_accuracy: 0.9239\n",
      "Epoch 15/200\n",
      "484/484 [==============================] - 1s 2ms/step - loss: 0.2640 - accuracy: 0.8999 - val_loss: 0.2203 - val_accuracy: 0.9172\n",
      "Epoch 16/200\n",
      "484/484 [==============================] - 1s 2ms/step - loss: 0.2681 - accuracy: 0.8988 - val_loss: 0.2153 - val_accuracy: 0.9245\n",
      "Epoch 17/200\n",
      "484/484 [==============================] - 1s 3ms/step - loss: 0.2539 - accuracy: 0.9040 - val_loss: 0.2109 - val_accuracy: 0.9257\n",
      "Epoch 18/200\n",
      "484/484 [==============================] - 2s 4ms/step - loss: 0.2558 - accuracy: 0.9029 - val_loss: 0.2050 - val_accuracy: 0.9221\n",
      "Epoch 19/200\n",
      "484/484 [==============================] - 1s 3ms/step - loss: 0.2535 - accuracy: 0.9041 - val_loss: 0.2046 - val_accuracy: 0.9260\n",
      "Epoch 20/200\n",
      "484/484 [==============================] - 2s 3ms/step - loss: 0.2576 - accuracy: 0.9024 - val_loss: 0.2045 - val_accuracy: 0.9330\n",
      "Epoch 21/200\n",
      "484/484 [==============================] - 2s 3ms/step - loss: 0.2529 - accuracy: 0.9006 - val_loss: 0.2061 - val_accuracy: 0.9296\n",
      "Epoch 22/200\n",
      "484/484 [==============================] - 1s 3ms/step - loss: 0.2508 - accuracy: 0.9054 - val_loss: 0.2032 - val_accuracy: 0.9307\n",
      "Epoch 23/200\n",
      "484/484 [==============================] - 1s 2ms/step - loss: 0.2491 - accuracy: 0.9044 - val_loss: 0.1991 - val_accuracy: 0.9291\n",
      "Epoch 24/200\n",
      "484/484 [==============================] - 1s 3ms/step - loss: 0.2518 - accuracy: 0.9039 - val_loss: 0.2003 - val_accuracy: 0.9242\n",
      "Epoch 25/200\n",
      "484/484 [==============================] - 1s 3ms/step - loss: 0.2506 - accuracy: 0.9043 - val_loss: 0.1992 - val_accuracy: 0.9325\n",
      "Epoch 26/200\n",
      "484/484 [==============================] - 1s 2ms/step - loss: 0.2514 - accuracy: 0.9032 - val_loss: 0.1977 - val_accuracy: 0.9320\n",
      "Epoch 27/200\n",
      "484/484 [==============================] - 1s 3ms/step - loss: 0.2532 - accuracy: 0.9033 - val_loss: 0.1990 - val_accuracy: 0.9325\n",
      "Epoch 28/200\n",
      "484/484 [==============================] - 1s 2ms/step - loss: 0.2453 - accuracy: 0.9069 - val_loss: 0.1952 - val_accuracy: 0.9345\n",
      "Epoch 29/200\n",
      "484/484 [==============================] - 1s 2ms/step - loss: 0.2434 - accuracy: 0.9061 - val_loss: 0.1941 - val_accuracy: 0.9291\n",
      "Epoch 30/200\n",
      "484/484 [==============================] - 1s 3ms/step - loss: 0.2386 - accuracy: 0.9122 - val_loss: 0.1889 - val_accuracy: 0.9340\n",
      "Epoch 31/200\n",
      "484/484 [==============================] - 1s 2ms/step - loss: 0.2378 - accuracy: 0.9129 - val_loss: 0.1918 - val_accuracy: 0.9348\n",
      "Epoch 32/200\n",
      "484/484 [==============================] - 2s 3ms/step - loss: 0.2405 - accuracy: 0.9082 - val_loss: 0.1887 - val_accuracy: 0.9356\n",
      "Epoch 33/200\n",
      "484/484 [==============================] - 1s 3ms/step - loss: 0.2429 - accuracy: 0.9103 - val_loss: 0.1889 - val_accuracy: 0.9332\n",
      "Epoch 34/200\n",
      "484/484 [==============================] - 1s 3ms/step - loss: 0.2395 - accuracy: 0.9108 - val_loss: 0.1883 - val_accuracy: 0.9366\n",
      "Epoch 35/200\n",
      "484/484 [==============================] - 1s 2ms/step - loss: 0.2409 - accuracy: 0.9080 - val_loss: 0.1874 - val_accuracy: 0.9361\n",
      "Epoch 36/200\n",
      "484/484 [==============================] - 1s 3ms/step - loss: 0.2370 - accuracy: 0.9088 - val_loss: 0.1897 - val_accuracy: 0.9257\n",
      "Epoch 37/200\n",
      "484/484 [==============================] - 1s 2ms/step - loss: 0.2355 - accuracy: 0.9125 - val_loss: 0.1906 - val_accuracy: 0.9283\n",
      "Epoch 38/200\n",
      "484/484 [==============================] - 1s 2ms/step - loss: 0.2299 - accuracy: 0.9151 - val_loss: 0.1855 - val_accuracy: 0.9288\n",
      "Epoch 39/200\n",
      "484/484 [==============================] - 1s 3ms/step - loss: 0.2366 - accuracy: 0.9119 - val_loss: 0.1832 - val_accuracy: 0.9330\n",
      "Epoch 40/200\n",
      "484/484 [==============================] - 1s 2ms/step - loss: 0.2403 - accuracy: 0.9114 - val_loss: 0.1813 - val_accuracy: 0.9332\n",
      "Epoch 41/200\n",
      "484/484 [==============================] - 1s 2ms/step - loss: 0.2392 - accuracy: 0.9106 - val_loss: 0.1863 - val_accuracy: 0.9314\n",
      "Epoch 42/200\n",
      "484/484 [==============================] - 1s 3ms/step - loss: 0.2343 - accuracy: 0.9116 - val_loss: 0.1849 - val_accuracy: 0.9332\n",
      "Epoch 43/200\n",
      "484/484 [==============================] - 1s 2ms/step - loss: 0.2377 - accuracy: 0.9115 - val_loss: 0.1815 - val_accuracy: 0.9364\n",
      "Epoch 44/200\n",
      "484/484 [==============================] - 1s 3ms/step - loss: 0.2337 - accuracy: 0.9110 - val_loss: 0.1820 - val_accuracy: 0.9338\n",
      "Epoch 45/200\n",
      "484/484 [==============================] - 2s 3ms/step - loss: 0.2308 - accuracy: 0.9116 - val_loss: 0.1846 - val_accuracy: 0.9351\n",
      "Epoch 46/200\n",
      "484/484 [==============================] - 2s 3ms/step - loss: 0.2344 - accuracy: 0.9145 - val_loss: 0.1841 - val_accuracy: 0.9322\n",
      "Epoch 47/200\n",
      "484/484 [==============================] - 1s 3ms/step - loss: 0.2347 - accuracy: 0.9148 - val_loss: 0.1852 - val_accuracy: 0.9353\n",
      "Epoch 48/200\n",
      "484/484 [==============================] - 1s 3ms/step - loss: 0.2380 - accuracy: 0.9116 - val_loss: 0.1776 - val_accuracy: 0.9395\n",
      "Epoch 49/200\n",
      "484/484 [==============================] - 1s 2ms/step - loss: 0.2316 - accuracy: 0.9133 - val_loss: 0.1828 - val_accuracy: 0.9332\n",
      "Epoch 50/200\n",
      "484/484 [==============================] - 1s 2ms/step - loss: 0.2285 - accuracy: 0.9156 - val_loss: 0.1806 - val_accuracy: 0.9330\n",
      "Epoch 51/200\n",
      "484/484 [==============================] - 1s 3ms/step - loss: 0.2301 - accuracy: 0.9131 - val_loss: 0.1759 - val_accuracy: 0.9376\n",
      "Epoch 52/200\n",
      "484/484 [==============================] - 1s 2ms/step - loss: 0.2356 - accuracy: 0.9117 - val_loss: 0.1800 - val_accuracy: 0.9364\n",
      "Epoch 53/200\n",
      "484/484 [==============================] - 1s 2ms/step - loss: 0.2330 - accuracy: 0.9120 - val_loss: 0.1880 - val_accuracy: 0.9304\n",
      "Epoch 54/200\n",
      "484/484 [==============================] - 1s 2ms/step - loss: 0.2287 - accuracy: 0.9152 - val_loss: 0.1747 - val_accuracy: 0.9376\n",
      "Epoch 55/200\n",
      "484/484 [==============================] - 1s 3ms/step - loss: 0.2308 - accuracy: 0.9160 - val_loss: 0.1781 - val_accuracy: 0.9366\n",
      "Epoch 56/200\n",
      "484/484 [==============================] - 1s 2ms/step - loss: 0.2270 - accuracy: 0.9158 - val_loss: 0.1789 - val_accuracy: 0.9338\n",
      "Epoch 57/200\n",
      "484/484 [==============================] - 2s 3ms/step - loss: 0.2330 - accuracy: 0.9140 - val_loss: 0.1789 - val_accuracy: 0.9371\n",
      "Epoch 58/200\n",
      "484/484 [==============================] - 2s 3ms/step - loss: 0.2350 - accuracy: 0.9151 - val_loss: 0.1804 - val_accuracy: 0.9369\n",
      "Epoch 59/200\n",
      "484/484 [==============================] - 1s 3ms/step - loss: 0.2311 - accuracy: 0.9126 - val_loss: 0.1798 - val_accuracy: 0.9351\n",
      "Epoch 60/200\n",
      "484/484 [==============================] - 1s 3ms/step - loss: 0.2344 - accuracy: 0.9116 - val_loss: 0.1832 - val_accuracy: 0.9343\n",
      "Epoch 61/200\n",
      "484/484 [==============================] - 1s 2ms/step - loss: 0.2335 - accuracy: 0.9151 - val_loss: 0.1777 - val_accuracy: 0.9301\n",
      "Epoch 62/200\n",
      "484/484 [==============================] - 1s 2ms/step - loss: 0.2281 - accuracy: 0.9154 - val_loss: 0.1798 - val_accuracy: 0.9338\n",
      "Epoch 63/200\n",
      "484/484 [==============================] - 1s 3ms/step - loss: 0.2367 - accuracy: 0.9114 - val_loss: 0.1847 - val_accuracy: 0.9314\n",
      "Epoch 64/200\n",
      "484/484 [==============================] - 1s 2ms/step - loss: 0.2338 - accuracy: 0.9143 - val_loss: 0.1762 - val_accuracy: 0.9335\n",
      "Epoch 65/200\n",
      "484/484 [==============================] - 1s 3ms/step - loss: 0.2336 - accuracy: 0.9136 - val_loss: 0.1749 - val_accuracy: 0.9353\n",
      "Epoch 66/200\n",
      "484/484 [==============================] - 1s 2ms/step - loss: 0.2238 - accuracy: 0.9175 - val_loss: 0.1799 - val_accuracy: 0.9340\n",
      "Epoch 67/200\n",
      "484/484 [==============================] - 1s 2ms/step - loss: 0.2286 - accuracy: 0.9162 - val_loss: 0.1784 - val_accuracy: 0.9345\n",
      "Epoch 68/200\n",
      "484/484 [==============================] - 1s 2ms/step - loss: 0.2333 - accuracy: 0.9144 - val_loss: 0.1780 - val_accuracy: 0.9348\n",
      "Epoch 69/200\n",
      "484/484 [==============================] - 2s 3ms/step - loss: 0.2259 - accuracy: 0.9182 - val_loss: 0.1835 - val_accuracy: 0.9405\n",
      "Epoch 70/200\n",
      "484/484 [==============================] - 2s 3ms/step - loss: 0.2309 - accuracy: 0.9147 - val_loss: 0.1768 - val_accuracy: 0.9371\n",
      "Epoch 71/200\n",
      "484/484 [==============================] - 2s 3ms/step - loss: 0.2313 - accuracy: 0.9137 - val_loss: 0.1800 - val_accuracy: 0.9348\n",
      "Epoch 72/200\n",
      "484/484 [==============================] - 1s 2ms/step - loss: 0.2278 - accuracy: 0.9166 - val_loss: 0.1862 - val_accuracy: 0.9351\n",
      "Epoch 73/200\n",
      "484/484 [==============================] - 1s 2ms/step - loss: 0.2309 - accuracy: 0.9160 - val_loss: 0.1833 - val_accuracy: 0.9309\n",
      "Epoch 74/200\n",
      "484/484 [==============================] - 1s 3ms/step - loss: 0.2270 - accuracy: 0.9138 - val_loss: 0.1756 - val_accuracy: 0.9376\n",
      "Epoch 75/200\n",
      "484/484 [==============================] - 1s 2ms/step - loss: 0.2310 - accuracy: 0.9140 - val_loss: 0.1767 - val_accuracy: 0.9366\n",
      "Epoch 76/200\n",
      "484/484 [==============================] - 1s 3ms/step - loss: 0.2268 - accuracy: 0.9162 - val_loss: 0.1832 - val_accuracy: 0.9332\n",
      "Epoch 77/200\n",
      "484/484 [==============================] - 1s 2ms/step - loss: 0.2288 - accuracy: 0.9156 - val_loss: 0.1781 - val_accuracy: 0.9340\n",
      "Epoch 78/200\n",
      "484/484 [==============================] - 1s 2ms/step - loss: 0.2344 - accuracy: 0.9147 - val_loss: 0.1786 - val_accuracy: 0.9327\n",
      "Epoch 79/200\n",
      "484/484 [==============================] - 1s 3ms/step - loss: 0.2331 - accuracy: 0.9141 - val_loss: 0.1817 - val_accuracy: 0.9309\n",
      "Epoch 80/200\n",
      "484/484 [==============================] - 1s 2ms/step - loss: 0.2289 - accuracy: 0.9174 - val_loss: 0.1837 - val_accuracy: 0.9296\n",
      "Epoch 81/200\n",
      "484/484 [==============================] - 1s 3ms/step - loss: 0.2281 - accuracy: 0.9154 - val_loss: 0.1746 - val_accuracy: 0.9351\n",
      "Epoch 82/200\n",
      "484/484 [==============================] - 2s 4ms/step - loss: 0.2304 - accuracy: 0.9162 - val_loss: 0.1781 - val_accuracy: 0.9332\n",
      "Epoch 83/200\n",
      "484/484 [==============================] - 2s 3ms/step - loss: 0.2275 - accuracy: 0.9172 - val_loss: 0.1786 - val_accuracy: 0.9320\n",
      "Epoch 84/200\n",
      "484/484 [==============================] - 1s 3ms/step - loss: 0.2312 - accuracy: 0.9148 - val_loss: 0.1746 - val_accuracy: 0.9356\n",
      "Epoch 85/200\n",
      "484/484 [==============================] - 1s 2ms/step - loss: 0.2296 - accuracy: 0.9154 - val_loss: 0.1790 - val_accuracy: 0.9307\n",
      "Epoch 86/200\n",
      "484/484 [==============================] - 1s 2ms/step - loss: 0.2297 - accuracy: 0.9139 - val_loss: 0.1758 - val_accuracy: 0.9348\n",
      "Epoch 87/200\n",
      "484/484 [==============================] - 1s 3ms/step - loss: 0.2293 - accuracy: 0.9159 - val_loss: 0.1784 - val_accuracy: 0.9345\n",
      "Epoch 88/200\n",
      "484/484 [==============================] - 1s 2ms/step - loss: 0.2292 - accuracy: 0.9156 - val_loss: 0.1785 - val_accuracy: 0.9356\n",
      "Epoch 89/200\n",
      "484/484 [==============================] - 1s 2ms/step - loss: 0.2331 - accuracy: 0.9147 - val_loss: 0.1716 - val_accuracy: 0.9358\n",
      "Epoch 90/200\n",
      "484/484 [==============================] - 1s 3ms/step - loss: 0.2276 - accuracy: 0.9164 - val_loss: 0.1821 - val_accuracy: 0.9296\n",
      "Epoch 91/200\n",
      "484/484 [==============================] - 1s 2ms/step - loss: 0.2300 - accuracy: 0.9169 - val_loss: 0.1763 - val_accuracy: 0.9402\n",
      "Epoch 92/200\n",
      "484/484 [==============================] - 2s 4ms/step - loss: 0.2281 - accuracy: 0.9163 - val_loss: 0.1761 - val_accuracy: 0.9317\n",
      "Epoch 93/200\n",
      "484/484 [==============================] - 1s 3ms/step - loss: 0.2275 - accuracy: 0.9176 - val_loss: 0.1755 - val_accuracy: 0.9369\n",
      "Epoch 94/200\n",
      "484/484 [==============================] - 2s 3ms/step - loss: 0.2280 - accuracy: 0.9162 - val_loss: 0.1809 - val_accuracy: 0.9338\n",
      "Epoch 95/200\n",
      "484/484 [==============================] - 2s 3ms/step - loss: 0.2266 - accuracy: 0.9169 - val_loss: 0.1744 - val_accuracy: 0.9376\n",
      "Epoch 96/200\n",
      "484/484 [==============================] - 1s 3ms/step - loss: 0.2282 - accuracy: 0.9167 - val_loss: 0.1831 - val_accuracy: 0.9364\n",
      "Epoch 97/200\n",
      "484/484 [==============================] - 1s 3ms/step - loss: 0.2314 - accuracy: 0.9169 - val_loss: 0.1721 - val_accuracy: 0.9330\n",
      "Epoch 98/200\n",
      "484/484 [==============================] - 1s 2ms/step - loss: 0.2304 - accuracy: 0.9160 - val_loss: 0.1784 - val_accuracy: 0.9320\n",
      "Epoch 99/200\n",
      "484/484 [==============================] - 1s 2ms/step - loss: 0.2307 - accuracy: 0.9164 - val_loss: 0.1820 - val_accuracy: 0.9369\n",
      "Epoch 100/200\n",
      "484/484 [==============================] - 1s 3ms/step - loss: 0.2291 - accuracy: 0.9152 - val_loss: 0.1766 - val_accuracy: 0.9327\n",
      "Epoch 101/200\n",
      "484/484 [==============================] - 1s 2ms/step - loss: 0.2292 - accuracy: 0.9152 - val_loss: 0.1822 - val_accuracy: 0.9348\n",
      "Epoch 102/200\n",
      "484/484 [==============================] - 1s 2ms/step - loss: 0.2262 - accuracy: 0.9162 - val_loss: 0.1772 - val_accuracy: 0.9351\n",
      "Epoch 103/200\n",
      "484/484 [==============================] - 1s 3ms/step - loss: 0.2240 - accuracy: 0.9180 - val_loss: 0.1834 - val_accuracy: 0.9384\n",
      "Epoch 104/200\n",
      "484/484 [==============================] - 1s 2ms/step - loss: 0.2306 - accuracy: 0.9143 - val_loss: 0.1809 - val_accuracy: 0.9307\n",
      "Epoch 105/200\n",
      "484/484 [==============================] - 2s 3ms/step - loss: 0.2261 - accuracy: 0.9152 - val_loss: 0.1764 - val_accuracy: 0.9335\n",
      "Epoch 106/200\n",
      "484/484 [==============================] - 2s 3ms/step - loss: 0.2293 - accuracy: 0.9162 - val_loss: 0.1746 - val_accuracy: 0.9361\n",
      "Epoch 107/200\n",
      "484/484 [==============================] - 2s 3ms/step - loss: 0.2292 - accuracy: 0.9165 - val_loss: 0.1812 - val_accuracy: 0.9301\n",
      "Epoch 108/200\n",
      "484/484 [==============================] - 1s 3ms/step - loss: 0.2279 - accuracy: 0.9173 - val_loss: 0.1762 - val_accuracy: 0.9291\n",
      "Epoch 109/200\n",
      "484/484 [==============================] - 1s 2ms/step - loss: 0.2288 - accuracy: 0.9151 - val_loss: 0.1730 - val_accuracy: 0.9371\n",
      "Epoch 110/200\n",
      "484/484 [==============================] - 1s 2ms/step - loss: 0.2280 - accuracy: 0.9178 - val_loss: 0.1726 - val_accuracy: 0.9392\n",
      "Epoch 111/200\n",
      "484/484 [==============================] - 1s 3ms/step - loss: 0.2301 - accuracy: 0.9158 - val_loss: 0.1809 - val_accuracy: 0.9304\n",
      "Epoch 112/200\n",
      "484/484 [==============================] - 1s 2ms/step - loss: 0.2267 - accuracy: 0.9169 - val_loss: 0.1756 - val_accuracy: 0.9343\n",
      "Epoch 113/200\n",
      "484/484 [==============================] - 1s 3ms/step - loss: 0.2282 - accuracy: 0.9169 - val_loss: 0.1797 - val_accuracy: 0.9320\n",
      "Epoch 114/200\n",
      "484/484 [==============================] - 1s 2ms/step - loss: 0.2268 - accuracy: 0.9172 - val_loss: 0.1746 - val_accuracy: 0.9397\n",
      "Epoch 115/200\n",
      "484/484 [==============================] - 1s 2ms/step - loss: 0.2298 - accuracy: 0.9157 - val_loss: 0.1732 - val_accuracy: 0.9413\n",
      "Epoch 116/200\n",
      "484/484 [==============================] - 1s 3ms/step - loss: 0.2292 - accuracy: 0.9142 - val_loss: 0.1774 - val_accuracy: 0.9345\n",
      "Epoch 117/200\n",
      "484/484 [==============================] - 1s 3ms/step - loss: 0.2280 - accuracy: 0.9190 - val_loss: 0.1735 - val_accuracy: 0.9400\n",
      "Epoch 118/200\n",
      "484/484 [==============================] - 2s 3ms/step - loss: 0.2238 - accuracy: 0.9180 - val_loss: 0.1778 - val_accuracy: 0.9330\n",
      "Epoch 119/200\n",
      "484/484 [==============================] - 2s 3ms/step - loss: 0.2327 - accuracy: 0.9166 - val_loss: 0.1703 - val_accuracy: 0.9369\n",
      "Epoch 120/200\n",
      "484/484 [==============================] - 1s 3ms/step - loss: 0.2270 - accuracy: 0.9164 - val_loss: 0.1796 - val_accuracy: 0.9343\n",
      "Epoch 121/200\n",
      "484/484 [==============================] - 1s 2ms/step - loss: 0.2285 - accuracy: 0.9158 - val_loss: 0.1788 - val_accuracy: 0.9314\n",
      "Epoch 122/200\n",
      "484/484 [==============================] - 1s 3ms/step - loss: 0.2248 - accuracy: 0.9189 - val_loss: 0.1749 - val_accuracy: 0.9345\n",
      "Epoch 123/200\n",
      "484/484 [==============================] - 1s 3ms/step - loss: 0.2331 - accuracy: 0.9136 - val_loss: 0.1765 - val_accuracy: 0.9356\n",
      "Epoch 124/200\n",
      "484/484 [==============================] - 1s 3ms/step - loss: 0.2350 - accuracy: 0.9119 - val_loss: 0.1799 - val_accuracy: 0.9335\n",
      "Epoch 125/200\n",
      "484/484 [==============================] - 1s 2ms/step - loss: 0.2313 - accuracy: 0.9143 - val_loss: 0.1787 - val_accuracy: 0.9314\n",
      "Epoch 126/200\n",
      "484/484 [==============================] - 1s 3ms/step - loss: 0.2253 - accuracy: 0.9183 - val_loss: 0.1776 - val_accuracy: 0.9353\n",
      "Epoch 127/200\n",
      "484/484 [==============================] - 1s 2ms/step - loss: 0.2282 - accuracy: 0.9175 - val_loss: 0.1787 - val_accuracy: 0.9317\n",
      "Epoch 128/200\n",
      "484/484 [==============================] - 1s 2ms/step - loss: 0.2268 - accuracy: 0.9173 - val_loss: 0.1745 - val_accuracy: 0.9332\n",
      "Epoch 129/200\n",
      "484/484 [==============================] - 1s 3ms/step - loss: 0.2299 - accuracy: 0.9135 - val_loss: 0.1698 - val_accuracy: 0.9369\n",
      "Epoch 130/200\n",
      "484/484 [==============================] - 2s 3ms/step - loss: 0.2241 - accuracy: 0.9184 - val_loss: 0.1722 - val_accuracy: 0.9364\n",
      "Epoch 131/200\n",
      "484/484 [==============================] - 2s 3ms/step - loss: 0.2322 - accuracy: 0.9152 - val_loss: 0.1794 - val_accuracy: 0.9343\n",
      "Epoch 132/200\n",
      "484/484 [==============================] - 1s 3ms/step - loss: 0.2291 - accuracy: 0.9167 - val_loss: 0.1792 - val_accuracy: 0.9369\n",
      "Epoch 133/200\n",
      "484/484 [==============================] - 1s 3ms/step - loss: 0.2264 - accuracy: 0.9171 - val_loss: 0.1783 - val_accuracy: 0.9366\n",
      "Epoch 134/200\n",
      "484/484 [==============================] - 1s 2ms/step - loss: 0.2291 - accuracy: 0.9143 - val_loss: 0.1751 - val_accuracy: 0.9330\n",
      "Epoch 135/200\n",
      "484/484 [==============================] - 1s 2ms/step - loss: 0.2294 - accuracy: 0.9143 - val_loss: 0.1737 - val_accuracy: 0.9358\n",
      "Epoch 136/200\n",
      "484/484 [==============================] - 1s 3ms/step - loss: 0.2299 - accuracy: 0.9167 - val_loss: 0.1752 - val_accuracy: 0.9361\n",
      "Epoch 137/200\n",
      "484/484 [==============================] - 1s 2ms/step - loss: 0.2295 - accuracy: 0.9153 - val_loss: 0.1767 - val_accuracy: 0.9382\n",
      "Epoch 138/200\n",
      "484/484 [==============================] - 1s 3ms/step - loss: 0.2320 - accuracy: 0.9133 - val_loss: 0.1727 - val_accuracy: 0.9384\n",
      "Epoch 139/200\n",
      "484/484 [==============================] - 1s 2ms/step - loss: 0.2296 - accuracy: 0.9149 - val_loss: 0.1717 - val_accuracy: 0.9382\n",
      "Epoch 140/200\n",
      "484/484 [==============================] - 1s 2ms/step - loss: 0.2300 - accuracy: 0.9157 - val_loss: 0.1736 - val_accuracy: 0.9366\n",
      "Epoch 141/200\n",
      "484/484 [==============================] - 1s 3ms/step - loss: 0.2278 - accuracy: 0.9163 - val_loss: 0.1717 - val_accuracy: 0.9361\n",
      "Epoch 142/200\n",
      "484/484 [==============================] - 2s 3ms/step - loss: 0.2283 - accuracy: 0.9173 - val_loss: 0.1788 - val_accuracy: 0.9374\n",
      "Epoch 143/200\n",
      "484/484 [==============================] - 2s 3ms/step - loss: 0.2253 - accuracy: 0.9176 - val_loss: 0.1745 - val_accuracy: 0.9325\n",
      "Epoch 144/200\n",
      "484/484 [==============================] - 2s 3ms/step - loss: 0.2283 - accuracy: 0.9157 - val_loss: 0.1803 - val_accuracy: 0.9340\n",
      "Epoch 145/200\n",
      "484/484 [==============================] - 1s 2ms/step - loss: 0.2327 - accuracy: 0.9162 - val_loss: 0.1758 - val_accuracy: 0.9356\n",
      "Epoch 146/200\n",
      "484/484 [==============================] - 1s 3ms/step - loss: 0.2346 - accuracy: 0.9157 - val_loss: 0.1750 - val_accuracy: 0.9340\n",
      "Epoch 147/200\n",
      "484/484 [==============================] - 1s 2ms/step - loss: 0.2295 - accuracy: 0.9145 - val_loss: 0.1723 - val_accuracy: 0.9371\n",
      "Epoch 148/200\n",
      "484/484 [==============================] - 1s 3ms/step - loss: 0.2301 - accuracy: 0.9157 - val_loss: 0.1728 - val_accuracy: 0.9389\n",
      "Epoch 149/200\n",
      "484/484 [==============================] - 1s 2ms/step - loss: 0.2271 - accuracy: 0.9178 - val_loss: 0.1792 - val_accuracy: 0.9312\n",
      "Epoch 150/200\n",
      "484/484 [==============================] - 1s 2ms/step - loss: 0.2292 - accuracy: 0.9138 - val_loss: 0.1725 - val_accuracy: 0.9369\n",
      "Epoch 151/200\n",
      "484/484 [==============================] - 1s 3ms/step - loss: 0.2295 - accuracy: 0.9174 - val_loss: 0.1736 - val_accuracy: 0.9356\n",
      "Epoch 152/200\n",
      "484/484 [==============================] - 1s 2ms/step - loss: 0.2301 - accuracy: 0.9160 - val_loss: 0.1788 - val_accuracy: 0.9343\n",
      "Epoch 153/200\n",
      "484/484 [==============================] - 1s 2ms/step - loss: 0.2263 - accuracy: 0.9171 - val_loss: 0.1752 - val_accuracy: 0.9379\n",
      "Epoch 154/200\n",
      "484/484 [==============================] - 2s 3ms/step - loss: 0.2267 - accuracy: 0.9180 - val_loss: 0.1751 - val_accuracy: 0.9351\n",
      "Epoch 155/200\n",
      "484/484 [==============================] - 2s 3ms/step - loss: 0.2296 - accuracy: 0.9160 - val_loss: 0.1783 - val_accuracy: 0.9351\n",
      "Epoch 156/200\n",
      "484/484 [==============================] - 2s 3ms/step - loss: 0.2310 - accuracy: 0.9154 - val_loss: 0.1760 - val_accuracy: 0.9353\n",
      "Epoch 157/200\n",
      "484/484 [==============================] - 1s 2ms/step - loss: 0.2284 - accuracy: 0.9147 - val_loss: 0.1841 - val_accuracy: 0.9291\n",
      "Epoch 158/200\n",
      "484/484 [==============================] - 1s 3ms/step - loss: 0.2256 - accuracy: 0.9157 - val_loss: 0.1729 - val_accuracy: 0.9366\n",
      "Epoch 159/200\n",
      "484/484 [==============================] - 1s 2ms/step - loss: 0.2287 - accuracy: 0.9165 - val_loss: 0.1799 - val_accuracy: 0.9353\n",
      "Epoch 160/200\n",
      "484/484 [==============================] - 1s 3ms/step - loss: 0.2286 - accuracy: 0.9189 - val_loss: 0.1807 - val_accuracy: 0.9335\n",
      "Epoch 161/200\n",
      "484/484 [==============================] - 1s 2ms/step - loss: 0.2314 - accuracy: 0.9159 - val_loss: 0.1747 - val_accuracy: 0.9356\n",
      "Epoch 162/200\n",
      "484/484 [==============================] - 1s 2ms/step - loss: 0.2320 - accuracy: 0.9147 - val_loss: 0.1807 - val_accuracy: 0.9338\n",
      "Epoch 163/200\n",
      "484/484 [==============================] - 1s 3ms/step - loss: 0.2289 - accuracy: 0.9175 - val_loss: 0.1819 - val_accuracy: 0.9348\n",
      "Epoch 164/200\n",
      "484/484 [==============================] - 1s 2ms/step - loss: 0.2294 - accuracy: 0.9156 - val_loss: 0.1768 - val_accuracy: 0.9320\n",
      "Epoch 165/200\n",
      "484/484 [==============================] - 1s 2ms/step - loss: 0.2288 - accuracy: 0.9163 - val_loss: 0.1753 - val_accuracy: 0.9330\n",
      "Epoch 166/200\n",
      "484/484 [==============================] - 2s 3ms/step - loss: 0.2243 - accuracy: 0.9176 - val_loss: 0.1707 - val_accuracy: 0.9351\n",
      "Epoch 167/200\n",
      "484/484 [==============================] - 2s 3ms/step - loss: 0.2291 - accuracy: 0.9178 - val_loss: 0.1854 - val_accuracy: 0.9392\n",
      "Epoch 168/200\n",
      "484/484 [==============================] - 2s 3ms/step - loss: 0.2268 - accuracy: 0.9174 - val_loss: 0.1805 - val_accuracy: 0.9361\n",
      "Epoch 169/200\n",
      "484/484 [==============================] - 1s 3ms/step - loss: 0.2228 - accuracy: 0.9187 - val_loss: 0.1800 - val_accuracy: 0.9327\n",
      "Epoch 170/200\n",
      "484/484 [==============================] - 1s 3ms/step - loss: 0.2310 - accuracy: 0.9167 - val_loss: 0.1866 - val_accuracy: 0.9338\n",
      "Epoch 171/200\n",
      "484/484 [==============================] - 1s 2ms/step - loss: 0.2310 - accuracy: 0.9156 - val_loss: 0.1736 - val_accuracy: 0.9387\n",
      "Epoch 172/200\n",
      "484/484 [==============================] - 1s 3ms/step - loss: 0.2263 - accuracy: 0.9163 - val_loss: 0.1799 - val_accuracy: 0.9317\n",
      "Epoch 173/200\n",
      "484/484 [==============================] - 1s 2ms/step - loss: 0.2275 - accuracy: 0.9149 - val_loss: 0.1849 - val_accuracy: 0.9345\n",
      "Epoch 174/200\n",
      "484/484 [==============================] - 1s 2ms/step - loss: 0.2299 - accuracy: 0.9158 - val_loss: 0.1754 - val_accuracy: 0.9366\n",
      "Epoch 175/200\n",
      "484/484 [==============================] - 1s 3ms/step - loss: 0.2272 - accuracy: 0.9182 - val_loss: 0.1799 - val_accuracy: 0.9371\n",
      "Epoch 176/200\n",
      "484/484 [==============================] - 1s 2ms/step - loss: 0.2327 - accuracy: 0.9151 - val_loss: 0.1837 - val_accuracy: 0.9332\n",
      "Epoch 177/200\n",
      "484/484 [==============================] - 1s 3ms/step - loss: 0.2282 - accuracy: 0.9168 - val_loss: 0.1788 - val_accuracy: 0.9353\n",
      "Epoch 178/200\n",
      "484/484 [==============================] - 1s 3ms/step - loss: 0.2298 - accuracy: 0.9153 - val_loss: 0.1758 - val_accuracy: 0.9351\n",
      "Epoch 179/200\n",
      "484/484 [==============================] - 2s 3ms/step - loss: 0.2333 - accuracy: 0.9162 - val_loss: 0.1877 - val_accuracy: 0.9325\n",
      "Epoch 180/200\n",
      "484/484 [==============================] - 2s 3ms/step - loss: 0.2269 - accuracy: 0.9139 - val_loss: 0.1740 - val_accuracy: 0.9364\n",
      "Epoch 181/200\n",
      "484/484 [==============================] - 1s 3ms/step - loss: 0.2247 - accuracy: 0.9189 - val_loss: 0.1791 - val_accuracy: 0.9338\n",
      "Epoch 182/200\n",
      "484/484 [==============================] - 1s 2ms/step - loss: 0.2267 - accuracy: 0.9171 - val_loss: 0.1800 - val_accuracy: 0.9322\n",
      "Epoch 183/200\n",
      "484/484 [==============================] - 1s 3ms/step - loss: 0.2252 - accuracy: 0.9164 - val_loss: 0.1784 - val_accuracy: 0.9340\n",
      "Epoch 184/200\n",
      "484/484 [==============================] - 2s 3ms/step - loss: 0.2285 - accuracy: 0.9151 - val_loss: 0.1806 - val_accuracy: 0.9343\n",
      "Epoch 185/200\n",
      "484/484 [==============================] - 2s 3ms/step - loss: 0.2331 - accuracy: 0.9141 - val_loss: 0.1875 - val_accuracy: 0.9340\n",
      "Epoch 186/200\n",
      "484/484 [==============================] - 1s 3ms/step - loss: 0.2264 - accuracy: 0.9167 - val_loss: 0.1765 - val_accuracy: 0.9351\n",
      "Epoch 187/200\n",
      "484/484 [==============================] - 1s 3ms/step - loss: 0.2267 - accuracy: 0.9165 - val_loss: 0.1749 - val_accuracy: 0.9387\n",
      "Epoch 188/200\n",
      "484/484 [==============================] - 1s 2ms/step - loss: 0.2241 - accuracy: 0.9182 - val_loss: 0.1754 - val_accuracy: 0.9340\n",
      "Epoch 189/200\n",
      "484/484 [==============================] - 1s 3ms/step - loss: 0.2307 - accuracy: 0.9145 - val_loss: 0.1784 - val_accuracy: 0.9348\n",
      "Epoch 190/200\n",
      "484/484 [==============================] - 2s 3ms/step - loss: 0.2241 - accuracy: 0.9196 - val_loss: 0.1753 - val_accuracy: 0.9327\n",
      "Epoch 191/200\n",
      "484/484 [==============================] - 2s 3ms/step - loss: 0.2274 - accuracy: 0.9178 - val_loss: 0.1830 - val_accuracy: 0.9348\n",
      "Epoch 192/200\n",
      "484/484 [==============================] - 1s 3ms/step - loss: 0.2251 - accuracy: 0.9176 - val_loss: 0.1732 - val_accuracy: 0.9369\n",
      "Epoch 193/200\n",
      "484/484 [==============================] - 1s 3ms/step - loss: 0.2297 - accuracy: 0.9182 - val_loss: 0.1934 - val_accuracy: 0.9330\n",
      "Epoch 194/200\n",
      "484/484 [==============================] - 1s 2ms/step - loss: 0.2266 - accuracy: 0.9176 - val_loss: 0.1798 - val_accuracy: 0.9382\n",
      "Epoch 195/200\n",
      "484/484 [==============================] - 1s 3ms/step - loss: 0.2306 - accuracy: 0.9166 - val_loss: 0.1767 - val_accuracy: 0.9356\n",
      "Epoch 196/200\n",
      "484/484 [==============================] - 1s 3ms/step - loss: 0.2264 - accuracy: 0.9160 - val_loss: 0.1748 - val_accuracy: 0.9392\n",
      "Epoch 197/200\n",
      "484/484 [==============================] - 1s 3ms/step - loss: 0.2295 - accuracy: 0.9160 - val_loss: 0.1763 - val_accuracy: 0.9348\n",
      "Epoch 198/200\n",
      "484/484 [==============================] - 1s 2ms/step - loss: 0.2328 - accuracy: 0.9147 - val_loss: 0.1807 - val_accuracy: 0.9353\n",
      "Epoch 199/200\n",
      "484/484 [==============================] - 1s 2ms/step - loss: 0.2270 - accuracy: 0.9158 - val_loss: 0.1767 - val_accuracy: 0.9374\n",
      "Epoch 200/200\n",
      "484/484 [==============================] - 1s 3ms/step - loss: 0.2279 - accuracy: 0.9170 - val_loss: 0.1806 - val_accuracy: 0.9353\n"
     ]
    }
   ],
   "source": [
    "# Fitting the neural network model to the training set\n",
    "# Training for 200 epochs with 20% of the training data used for validation\n",
    "# The 'shuffle' parameter ensures that the training data is shuffled before each epoch\n",
    "model_history = model.fit(X_train, y_train, validation_split=0.2, validation_data=(X_test, y_test), epochs=200, shuffle=True)\n"
   ]
  },
  {
   "cell_type": "code",
   "execution_count": 41,
   "metadata": {},
   "outputs": [
    {
     "data": {
      "text/plain": [
       "dict_keys(['loss', 'accuracy', 'val_loss', 'val_accuracy'])"
      ]
     },
     "execution_count": 41,
     "metadata": {},
     "output_type": "execute_result"
    }
   ],
   "source": [
    "# Extracting the training history dictionary from the model training process\n",
    "history_dict = model_history.history\n",
    "\n",
    "# Displaying the keys in the training history dictionary\n",
    "history_dict.keys()\n"
   ]
  },
  {
   "cell_type": "code",
   "execution_count": 42,
   "metadata": {},
   "outputs": [
    {
     "data": {
      "image/png": "[encoded data removed]",
      "text/plain": [
       "<Figure size 640x480 with 1 Axes>"
      ]
     },
     "metadata": {},
     "output_type": "display_data"
    }
   ],
   "source": [
    "# Plotting the training loss and validation loss over epochs\n",
    "plt.plot(history_dict['loss'])\n",
    "plt.plot(history_dict['val_loss'])\n",
    "plt.title('Loss and Validation Loss')\n",
    "plt.ylabel('Loss')\n",
    "plt.xlabel('Epoch')\n",
    "plt.legend(['Training Loss', 'Validation Loss'], loc='upper right')\n",
    "plt.show()\n"
   ]
  },
  {
   "cell_type": "code",
   "execution_count": 43,
   "metadata": {},
   "outputs": [
    {
     "data": {
      "image/png": "[encoded data removed]",
      "text/plain": [
       "<Figure size 640x480 with 1 Axes>"
      ]
     },
     "metadata": {},
     "output_type": "display_data"
    }
   ],
   "source": [
    "# Plotting the training accuracy and validation accuracy over epochs\n",
    "plt.plot(history_dict['accuracy'])\n",
    "plt.plot(history_dict['val_accuracy'])\n",
    "plt.title('Training and Validation Accuracy')\n",
    "plt.ylabel('Accuracy')\n",
    "plt.xlabel('Epoch')\n",
    "plt.legend(['Training Accuracy', 'Validation Accuracy'], loc='lower right')\n",
    "plt.show()\n"
   ]
  },
  {
   "cell_type": "code",
   "execution_count": 44,
   "metadata": {},
   "outputs": [
    {
     "name": "stdout",
     "output_type": "stream",
     "text": [
      "121/121 [==============================] - 0s 2ms/step - loss: 0.1806 - accuracy: 0.9353\n",
      "Accuracy of the model is 0.9353169202804565\n"
     ]
    }
   ],
   "source": [
    "# Evaluating the model's accuracy on the test set\n",
    "acc = model.evaluate(X_test, y_test)[1]\n",
    "\n",
    "# Displaying the accuracy of the trained model\n",
    "print(f'Accuracy of the model is {acc}')\n"
   ]
  },
  {
   "cell_type": "code",
   "execution_count": 45,
   "metadata": {},
   "outputs": [
    {
     "name": "stdout",
     "output_type": "stream",
     "text": [
      "Model: \"sequential\"\n",
      "_________________________________________________________________\n",
      " Layer (type)                Output Shape              Param #   \n",
      "=================================================================\n",
      " dense (Dense)               (None, 10)                80        \n",
      "                                                                 \n",
      " batch_normalization (Batch  (None, 10)                40        \n",
      " Normalization)                                                  \n",
      "                                                                 \n",
      " dropout (Dropout)           (None, 10)                0         \n",
      "                                                                 \n",
      " dense_1 (Dense)             (None, 7)                 77        \n",
      "                                                                 \n",
      " batch_normalization_1 (Bat  (None, 7)                 28        \n",
      " chNormalization)                                                \n",
      "                                                                 \n",
      " dropout_1 (Dropout)         (None, 7)                 0         \n",
      "                                                                 \n",
      " dense_2 (Dense)             (None, 1)                 8         \n",
      "                                                                 \n",
      "=================================================================\n",
      "Total params: 233 (932.00 Byte)\n",
      "Trainable params: 199 (796.00 Byte)\n",
      "Non-trainable params: 34 (136.00 Byte)\n",
      "_________________________________________________________________\n"
     ]
    }
   ],
   "source": [
    "# Displaying a summary of the neural network model architecture\n",
    "model.summary()\n"
   ]
  },
  {
   "cell_type": "code",
   "execution_count": 46,
   "metadata": {},
   "outputs": [
    {
     "name": "stdout",
     "output_type": "stream",
     "text": [
      "121/121 [==============================] - 0s 2ms/step\n",
      "              precision    recall  f1-score   support\n",
      "\n",
      "           0       0.97      0.90      0.93      1923\n",
      "           1       0.91      0.97      0.94      1942\n",
      "\n",
      "    accuracy                           0.94      3865\n",
      "   macro avg       0.94      0.94      0.94      3865\n",
      "weighted avg       0.94      0.94      0.94      3865\n",
      "\n"
     ]
    }
   ],
   "source": [
    "# Importing the 'classification_report' function from scikit-learn metrics\n",
    "from sklearn.metrics import classification_report\n",
    "\n",
    "# Generating predictions using the trained neural network model on the test set\n",
    "y_pre = []\n",
    "for element in model.predict(X_test):\n",
    "    if element > 0.5:\n",
    "        y_pre.append(1)\n",
    "    else:\n",
    "        y_pre.append(0)\n",
    "\n",
    "# Displaying the classification report comparing actual and predicted labels\n",
    "print(classification_report(y_test, y_pre))\n"
   ]
  },
  {
   "cell_type": "code",
   "execution_count": 47,
   "metadata": {},
   "outputs": [
    {
     "name": "stdout",
     "output_type": "stream",
     "text": [
      "121/121 [==============================] - 0s 2ms/step\n"
     ]
    },
    {
     "data": {
      "image/png": "[encoded data removed]",
      "text/plain": [
       "<Figure size 640x480 with 1 Axes>"
      ]
     },
     "metadata": {},
     "output_type": "display_data"
    }
   ],
   "source": [
    "from sklearn import metrics\n",
    "from sklearn.metrics import roc_curve\n",
    "predictions = model.predict(X_test)\n",
    "y_pre_prob =  predictions[:, 0]\n",
    "fpr, tpr, thresholds = roc_curve(y_test, y_pre_prob)\n",
    "auc = metrics.roc_auc_score(y_test, y_pre_prob)\n",
    "\n",
    "plt.figure()\n",
    "lw = 2\n",
    "plt.plot(fpr, tpr, color = 'darkorange',lw = lw, label = 'ROC CURVE(area=%0.2f)' %auc)\n",
    "plt.plot([0,1],[0,1], color = 'navy', lw = lw, linestyle = '--')\n",
    "plt.xlim([0.0, 1.0])\n",
    "plt.ylim([0.0, 1.05])\n",
    "plt.xlabel('FALSE POSITIVE RATE')\n",
    "plt.ylabel('TRUE POSITIVE RATE')\n",
    "plt.title('ROC CURVE')\n",
    "plt.legend(loc = 'lower right')\n",
    "plt.show()"
   ]
  },
  {
   "cell_type": "code",
   "execution_count": 48,
   "metadata": {},
   "outputs": [
    {
     "name": "stdout",
     "output_type": "stream",
     "text": [
      "              precision    recall  f1-score   support\n",
      "\n",
      "           0       0.97      0.90      0.93      1923\n",
      "           1       0.91      0.97      0.94      1942\n",
      "\n",
      "    accuracy                           0.94      3865\n",
      "   macro avg       0.94      0.94      0.94      3865\n",
      "weighted avg       0.94      0.94      0.94      3865\n",
      "\n"
     ]
    },
    {
     "data": {
      "image/png": "[encoded data removed]",
      "text/plain": [
       "<Figure size 640x480 with 2 Axes>"
      ]
     },
     "metadata": {},
     "output_type": "display_data"
    }
   ],
   "source": [
    "# Importing necessary modules from scikit-learn, seaborn, and matplotlib for classification report and confusion matrix\n",
    "from sklearn.metrics import classification_report, confusion_matrix\n",
    "import seaborn as sns\n",
    "import matplotlib.pyplot as plt\n",
    "\n",
    "# Assuming you have predictions (binary_predictions) from your model\n",
    "binary_predictions = (predictions > 0.5).astype(int)\n",
    "\n",
    "# Get class labels\n",
    "class_labels = ['Class 0 - False', 'Class 1 - True']\n",
    "\n",
    "# Print classification report\n",
    "print(classification_report(y_test, binary_predictions))\n",
    "\n",
    "# Create confusion matrix\n",
    "cm = confusion_matrix(y_test, binary_predictions)\n",
    "\n",
    "# Plot confusion matrix with labels\n",
    "sns.heatmap(cm, annot=True, cmap='Blues', fmt='g', xticklabels=class_labels, yticklabels=class_labels)\n",
    "plt.xlabel('Predicted')\n",
    "plt.ylabel('True')\n",
    "plt.title('Confusion Matrix for Artificial Neural Network')\n",
    "plt.show()\n"
   ]
  },
  {
   "cell_type": "code",
   "execution_count": null,
   "metadata": {},
   "outputs": [],
   "source": []
  },
  {
   "cell_type": "code",
   "execution_count": null,
   "metadata": {},
   "outputs": [],
   "source": []
  }
 ],
 "metadata": {
  "kernelspec": {
   "display_name": "Python 3 (ipykernel)",
   "language": "python",
   "name": "python3"
  },
  "language_info": {
   "codemirror_mode": {
    "name": "ipython",
    "version": 3
   },
   "file_extension": ".py",
   "mimetype": "text/x-python",
   "name": "python",
   "nbconvert_exporter": "python",
   "pygments_lexer": "ipython3",
   "version": "3.11.5"
  }
 },
 "nbformat": 4,
 "nbformat_minor": 2
}
